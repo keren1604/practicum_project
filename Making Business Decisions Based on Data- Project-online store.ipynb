{
 "cells": [
  {
   "cell_type": "markdown",
   "id": "2be35552",
   "metadata": {},
   "source": [
    "# <font color='green'>Making Business Decisions Based on Data- Project-online store"
   ]
  },
  {
   "cell_type": "markdown",
   "id": "2de766ca",
   "metadata": {},
   "source": [
    "**<font color='green'>Project description:**\n",
    "    \n",
    "<font color='green'>You are an analyst at a big online store. Together with the marketing\n",
    "department, you've compiled a list of hypotheses that may help boost revenue.\n",
    "    \n",
    "<font color='green'>You need to prioritize these hypotheses, launch an A/B test, and analyze the\n",
    "results."
   ]
  },
  {
   "cell_type": "code",
   "execution_count": 1,
   "id": "4bd77bca",
   "metadata": {},
   "outputs": [],
   "source": [
    "import os\n",
    "import pandas as pd\n",
    "import plotly.express as px\n",
    "import plotly.graph_objects as go\n",
    "import statistics\n",
    "from datetime import datetime\n",
    "import matplotlib.pyplot as plt\n",
    "from pandas.plotting import scatter_matrix\n",
    "from matplotlib.pyplot import figure\n",
    "import datetime\n",
    "import numpy as np\n",
    "import seaborn as sns\n",
    "from functools import reduce\n",
    "import math\n",
    "from scipy import stats as st\n",
    "from scipy import stats\n",
    "\n",
    "import datetime as dt\n",
    "import matplotlib.pyplot as plt\n"
   ]
  },
  {
   "cell_type": "markdown",
   "id": "df4cddb4",
   "metadata": {},
   "source": [
    "**<font size=\"5\"><font color='green'>prepare the data:**"
   ]
  },
  {
   "cell_type": "markdown",
   "id": "20f736f6",
   "metadata": {},
   "source": [
    "**<font size=\"4\"><font color='green'>Hypotheses Table**"
   ]
  },
  {
   "cell_type": "code",
   "execution_count": 2,
   "id": "3741d8fa",
   "metadata": {},
   "outputs": [],
   "source": [
    "try:\n",
    "    hypotheses_data= pd.read_csv(r'C:\\Users\\keren\\Desktop\\data analyst\\Making Business Decisions Based on Data\\project\\moved_hypotheses_us.csv',sep=';')  \n",
    "except:\n",
    "    hypotheses_data= pd.read_csv(r'/datasets/hypotheses_us.csv',sep=';')"
   ]
  },
  {
   "cell_type": "code",
   "execution_count": 3,
   "id": "fc9f0b80",
   "metadata": {
    "scrolled": false
   },
   "outputs": [
    {
     "name": "stdout",
     "output_type": "stream",
     "text": [
      "<class 'pandas.core.frame.DataFrame'>\n",
      "RangeIndex: 9 entries, 0 to 8\n",
      "Data columns (total 5 columns):\n",
      " #   Column      Non-Null Count  Dtype \n",
      "---  ------      --------------  ----- \n",
      " 0   Hypothesis  9 non-null      object\n",
      " 1   Reach       9 non-null      int64 \n",
      " 2   Impact      9 non-null      int64 \n",
      " 3   Confidence  9 non-null      int64 \n",
      " 4   Effort      9 non-null      int64 \n",
      "dtypes: int64(4), object(1)\n",
      "memory usage: 1.6 KB\n"
     ]
    }
   ],
   "source": [
    "hypotheses_data.info(memory_usage= 'deep')"
   ]
  },
  {
   "cell_type": "code",
   "execution_count": 4,
   "id": "f524e916",
   "metadata": {},
   "outputs": [],
   "source": [
    "hypotheses_data.columns= hypotheses_data.columns.str.lower()"
   ]
  },
  {
   "cell_type": "code",
   "execution_count": 5,
   "id": "6b34fea2",
   "metadata": {
    "scrolled": true
   },
   "outputs": [
    {
     "data": {
      "text/html": [
       "<div>\n",
       "<style scoped>\n",
       "    .dataframe tbody tr th:only-of-type {\n",
       "        vertical-align: middle;\n",
       "    }\n",
       "\n",
       "    .dataframe tbody tr th {\n",
       "        vertical-align: top;\n",
       "    }\n",
       "\n",
       "    .dataframe thead th {\n",
       "        text-align: right;\n",
       "    }\n",
       "</style>\n",
       "<table border=\"1\" class=\"dataframe\">\n",
       "  <thead>\n",
       "    <tr style=\"text-align: right;\">\n",
       "      <th></th>\n",
       "      <th>hypothesis</th>\n",
       "      <th>reach</th>\n",
       "      <th>impact</th>\n",
       "      <th>confidence</th>\n",
       "      <th>effort</th>\n",
       "    </tr>\n",
       "  </thead>\n",
       "  <tbody>\n",
       "    <tr>\n",
       "      <th>0</th>\n",
       "      <td>Add two new channels for attracting traffic. T...</td>\n",
       "      <td>3</td>\n",
       "      <td>10</td>\n",
       "      <td>8</td>\n",
       "      <td>6</td>\n",
       "    </tr>\n",
       "    <tr>\n",
       "      <th>1</th>\n",
       "      <td>Launch your own delivery service. This will sh...</td>\n",
       "      <td>2</td>\n",
       "      <td>5</td>\n",
       "      <td>4</td>\n",
       "      <td>10</td>\n",
       "    </tr>\n",
       "    <tr>\n",
       "      <th>2</th>\n",
       "      <td>Add product recommendation blocks to the store...</td>\n",
       "      <td>8</td>\n",
       "      <td>3</td>\n",
       "      <td>7</td>\n",
       "      <td>3</td>\n",
       "    </tr>\n",
       "    <tr>\n",
       "      <th>3</th>\n",
       "      <td>Change the category structure. This will incre...</td>\n",
       "      <td>8</td>\n",
       "      <td>3</td>\n",
       "      <td>3</td>\n",
       "      <td>8</td>\n",
       "    </tr>\n",
       "    <tr>\n",
       "      <th>4</th>\n",
       "      <td>Change the background color on the main page. ...</td>\n",
       "      <td>3</td>\n",
       "      <td>1</td>\n",
       "      <td>1</td>\n",
       "      <td>1</td>\n",
       "    </tr>\n",
       "  </tbody>\n",
       "</table>\n",
       "</div>"
      ],
      "text/plain": [
       "                                          hypothesis  reach  impact  \\\n",
       "0  Add two new channels for attracting traffic. T...      3      10   \n",
       "1  Launch your own delivery service. This will sh...      2       5   \n",
       "2  Add product recommendation blocks to the store...      8       3   \n",
       "3  Change the category structure. This will incre...      8       3   \n",
       "4  Change the background color on the main page. ...      3       1   \n",
       "\n",
       "   confidence  effort  \n",
       "0           8       6  \n",
       "1           4      10  \n",
       "2           7       3  \n",
       "3           3       8  \n",
       "4           1       1  "
      ]
     },
     "execution_count": 5,
     "metadata": {},
     "output_type": "execute_result"
    }
   ],
   "source": [
    "hypotheses_data.head()"
   ]
  },
  {
   "cell_type": "code",
   "execution_count": 6,
   "id": "d812b2e8",
   "metadata": {},
   "outputs": [
    {
     "data": {
      "text/plain": [
       "hypothesis    0\n",
       "reach         0\n",
       "impact        0\n",
       "confidence    0\n",
       "effort        0\n",
       "dtype: int64"
      ]
     },
     "execution_count": 6,
     "metadata": {},
     "output_type": "execute_result"
    }
   ],
   "source": [
    "hypotheses_data.isna().sum()\n"
   ]
  },
  {
   "cell_type": "code",
   "execution_count": 7,
   "id": "a7c33ed8",
   "metadata": {},
   "outputs": [
    {
     "data": {
      "text/plain": [
       "0"
      ]
     },
     "execution_count": 7,
     "metadata": {},
     "output_type": "execute_result"
    }
   ],
   "source": [
    "hypotheses_data.duplicated().sum()\n"
   ]
  },
  {
   "cell_type": "markdown",
   "id": "33a12065",
   "metadata": {},
   "source": [
    "**<font size=\"4\"><font color='green'>Orders Table**"
   ]
  },
  {
   "cell_type": "code",
   "execution_count": 8,
   "id": "e22de4dd",
   "metadata": {},
   "outputs": [],
   "source": [
    "try:\n",
    "    orders_data= pd.read_csv(r'C:\\Users\\keren\\Desktop\\data analyst\\Making Business Decisions Based on Data\\project\\moved_orders_us.csv')  \n",
    "except:\n",
    "    orders_data= pd.read_csv(r'/datasets/orders_us.csv')"
   ]
  },
  {
   "cell_type": "code",
   "execution_count": 9,
   "id": "e93b90e4",
   "metadata": {
    "scrolled": true
   },
   "outputs": [
    {
     "name": "stdout",
     "output_type": "stream",
     "text": [
      "<class 'pandas.core.frame.DataFrame'>\n",
      "RangeIndex: 1197 entries, 0 to 1196\n",
      "Data columns (total 5 columns):\n",
      " #   Column         Non-Null Count  Dtype  \n",
      "---  ------         --------------  -----  \n",
      " 0   transactionId  1197 non-null   int64  \n",
      " 1   visitorId      1197 non-null   int64  \n",
      " 2   date           1197 non-null   object \n",
      " 3   revenue        1197 non-null   float64\n",
      " 4   group          1197 non-null   object \n",
      "dtypes: float64(1), int64(2), object(2)\n",
      "memory usage: 174.3 KB\n"
     ]
    }
   ],
   "source": [
    "orders_data.info(memory_usage= 'deep')"
   ]
  },
  {
   "cell_type": "code",
   "execution_count": 10,
   "id": "c7362260",
   "metadata": {},
   "outputs": [
    {
     "data": {
      "text/html": [
       "<div>\n",
       "<style scoped>\n",
       "    .dataframe tbody tr th:only-of-type {\n",
       "        vertical-align: middle;\n",
       "    }\n",
       "\n",
       "    .dataframe tbody tr th {\n",
       "        vertical-align: top;\n",
       "    }\n",
       "\n",
       "    .dataframe thead th {\n",
       "        text-align: right;\n",
       "    }\n",
       "</style>\n",
       "<table border=\"1\" class=\"dataframe\">\n",
       "  <thead>\n",
       "    <tr style=\"text-align: right;\">\n",
       "      <th></th>\n",
       "      <th>transactionId</th>\n",
       "      <th>visitorId</th>\n",
       "      <th>date</th>\n",
       "      <th>revenue</th>\n",
       "      <th>group</th>\n",
       "    </tr>\n",
       "  </thead>\n",
       "  <tbody>\n",
       "    <tr>\n",
       "      <th>0</th>\n",
       "      <td>3667963787</td>\n",
       "      <td>3312258926</td>\n",
       "      <td>2019-08-15</td>\n",
       "      <td>30.4</td>\n",
       "      <td>B</td>\n",
       "    </tr>\n",
       "    <tr>\n",
       "      <th>1</th>\n",
       "      <td>2804400009</td>\n",
       "      <td>3642806036</td>\n",
       "      <td>2019-08-15</td>\n",
       "      <td>15.2</td>\n",
       "      <td>B</td>\n",
       "    </tr>\n",
       "    <tr>\n",
       "      <th>2</th>\n",
       "      <td>2961555356</td>\n",
       "      <td>4069496402</td>\n",
       "      <td>2019-08-15</td>\n",
       "      <td>10.2</td>\n",
       "      <td>A</td>\n",
       "    </tr>\n",
       "    <tr>\n",
       "      <th>3</th>\n",
       "      <td>3797467345</td>\n",
       "      <td>1196621759</td>\n",
       "      <td>2019-08-15</td>\n",
       "      <td>155.1</td>\n",
       "      <td>B</td>\n",
       "    </tr>\n",
       "    <tr>\n",
       "      <th>4</th>\n",
       "      <td>2282983706</td>\n",
       "      <td>2322279887</td>\n",
       "      <td>2019-08-15</td>\n",
       "      <td>40.5</td>\n",
       "      <td>B</td>\n",
       "    </tr>\n",
       "    <tr>\n",
       "      <th>...</th>\n",
       "      <td>...</td>\n",
       "      <td>...</td>\n",
       "      <td>...</td>\n",
       "      <td>...</td>\n",
       "      <td>...</td>\n",
       "    </tr>\n",
       "    <tr>\n",
       "      <th>1192</th>\n",
       "      <td>2662137336</td>\n",
       "      <td>3733762160</td>\n",
       "      <td>2019-08-14</td>\n",
       "      <td>100.8</td>\n",
       "      <td>B</td>\n",
       "    </tr>\n",
       "    <tr>\n",
       "      <th>1193</th>\n",
       "      <td>2203539145</td>\n",
       "      <td>370388673</td>\n",
       "      <td>2019-08-14</td>\n",
       "      <td>50.1</td>\n",
       "      <td>A</td>\n",
       "    </tr>\n",
       "    <tr>\n",
       "      <th>1194</th>\n",
       "      <td>1807773912</td>\n",
       "      <td>573423106</td>\n",
       "      <td>2019-08-14</td>\n",
       "      <td>165.3</td>\n",
       "      <td>A</td>\n",
       "    </tr>\n",
       "    <tr>\n",
       "      <th>1195</th>\n",
       "      <td>1947021204</td>\n",
       "      <td>1614305549</td>\n",
       "      <td>2019-08-14</td>\n",
       "      <td>5.5</td>\n",
       "      <td>A</td>\n",
       "    </tr>\n",
       "    <tr>\n",
       "      <th>1196</th>\n",
       "      <td>3936777065</td>\n",
       "      <td>2108080724</td>\n",
       "      <td>2019-08-15</td>\n",
       "      <td>3120.1</td>\n",
       "      <td>B</td>\n",
       "    </tr>\n",
       "  </tbody>\n",
       "</table>\n",
       "<p>1197 rows × 5 columns</p>\n",
       "</div>"
      ],
      "text/plain": [
       "      transactionId   visitorId        date  revenue group\n",
       "0        3667963787  3312258926  2019-08-15     30.4     B\n",
       "1        2804400009  3642806036  2019-08-15     15.2     B\n",
       "2        2961555356  4069496402  2019-08-15     10.2     A\n",
       "3        3797467345  1196621759  2019-08-15    155.1     B\n",
       "4        2282983706  2322279887  2019-08-15     40.5     B\n",
       "...             ...         ...         ...      ...   ...\n",
       "1192     2662137336  3733762160  2019-08-14    100.8     B\n",
       "1193     2203539145   370388673  2019-08-14     50.1     A\n",
       "1194     1807773912   573423106  2019-08-14    165.3     A\n",
       "1195     1947021204  1614305549  2019-08-14      5.5     A\n",
       "1196     3936777065  2108080724  2019-08-15   3120.1     B\n",
       "\n",
       "[1197 rows x 5 columns]"
      ]
     },
     "execution_count": 10,
     "metadata": {},
     "output_type": "execute_result"
    }
   ],
   "source": [
    "orders_data"
   ]
  },
  {
   "cell_type": "code",
   "execution_count": 11,
   "id": "bcdfb93d",
   "metadata": {},
   "outputs": [],
   "source": [
    "def read_orders(path):\n",
    "    return pd.read_csv( path,\n",
    "        parse_dates=['date'],)\n",
    "\n",
    "try:\n",
    "    orders_data= read_orders(r'C:\\Users\\keren\\Desktop\\data analyst\\Making Business Decisions Based on Data\\project\\moved_orders_us.csv')\n",
    "except FileNotFoundError:\n",
    "    orders_data= read_orders(r'/datasets/orders_us.csv')"
   ]
  },
  {
   "cell_type": "code",
   "execution_count": 12,
   "id": "4effff07",
   "metadata": {},
   "outputs": [
    {
     "name": "stdout",
     "output_type": "stream",
     "text": [
      "<class 'pandas.core.frame.DataFrame'>\n",
      "RangeIndex: 1197 entries, 0 to 1196\n",
      "Data columns (total 5 columns):\n",
      " #   Column         Non-Null Count  Dtype         \n",
      "---  ------         --------------  -----         \n",
      " 0   transactionId  1197 non-null   int64         \n",
      " 1   visitorId      1197 non-null   int64         \n",
      " 2   date           1197 non-null   datetime64[ns]\n",
      " 3   revenue        1197 non-null   float64       \n",
      " 4   group          1197 non-null   object        \n",
      "dtypes: datetime64[ns](1), float64(1), int64(2), object(1)\n",
      "memory usage: 105.3 KB\n"
     ]
    }
   ],
   "source": [
    "orders_data.info(memory_usage= 'deep')"
   ]
  },
  {
   "cell_type": "code",
   "execution_count": 13,
   "id": "4ee6d3fe",
   "metadata": {},
   "outputs": [
    {
     "data": {
      "text/plain": [
       "transactionId    0\n",
       "visitorId        0\n",
       "date             0\n",
       "revenue          0\n",
       "group            0\n",
       "dtype: int64"
      ]
     },
     "execution_count": 13,
     "metadata": {},
     "output_type": "execute_result"
    }
   ],
   "source": [
    "orders_data.isna().sum()\n"
   ]
  },
  {
   "cell_type": "code",
   "execution_count": 14,
   "id": "68ae62a4",
   "metadata": {
    "scrolled": false
   },
   "outputs": [
    {
     "data": {
      "text/plain": [
       "0"
      ]
     },
     "execution_count": 14,
     "metadata": {},
     "output_type": "execute_result"
    }
   ],
   "source": [
    "orders_data.duplicated().sum()\n"
   ]
  },
  {
   "cell_type": "markdown",
   "id": "56cb81fd",
   "metadata": {},
   "source": [
    "<font color='green'>Now I will handle the values that contain users that are in the 2 groups.\n",
    "    \n",
    "<font color='green'>I will remove them from my data to work with clean data"
   ]
  },
  {
   "cell_type": "code",
   "execution_count": 15,
   "id": "3e899b32",
   "metadata": {
    "scrolled": false
   },
   "outputs": [
    {
     "data": {
      "text/html": [
       "<div>\n",
       "<style scoped>\n",
       "    .dataframe tbody tr th:only-of-type {\n",
       "        vertical-align: middle;\n",
       "    }\n",
       "\n",
       "    .dataframe tbody tr th {\n",
       "        vertical-align: top;\n",
       "    }\n",
       "\n",
       "    .dataframe thead th {\n",
       "        text-align: right;\n",
       "    }\n",
       "</style>\n",
       "<table border=\"1\" class=\"dataframe\">\n",
       "  <thead>\n",
       "    <tr style=\"text-align: right;\">\n",
       "      <th></th>\n",
       "      <th>visitorId</th>\n",
       "      <th>group</th>\n",
       "    </tr>\n",
       "  </thead>\n",
       "  <tbody>\n",
       "    <tr>\n",
       "      <th>0</th>\n",
       "      <td>5114589</td>\n",
       "      <td>1</td>\n",
       "    </tr>\n",
       "    <tr>\n",
       "      <th>1</th>\n",
       "      <td>6958315</td>\n",
       "      <td>1</td>\n",
       "    </tr>\n",
       "    <tr>\n",
       "      <th>2</th>\n",
       "      <td>8300375</td>\n",
       "      <td>2</td>\n",
       "    </tr>\n",
       "    <tr>\n",
       "      <th>3</th>\n",
       "      <td>11685486</td>\n",
       "      <td>1</td>\n",
       "    </tr>\n",
       "    <tr>\n",
       "      <th>4</th>\n",
       "      <td>39475350</td>\n",
       "      <td>1</td>\n",
       "    </tr>\n",
       "    <tr>\n",
       "      <th>5</th>\n",
       "      <td>47206413</td>\n",
       "      <td>1</td>\n",
       "    </tr>\n",
       "    <tr>\n",
       "      <th>6</th>\n",
       "      <td>48147722</td>\n",
       "      <td>1</td>\n",
       "    </tr>\n",
       "    <tr>\n",
       "      <th>7</th>\n",
       "      <td>54447517</td>\n",
       "      <td>1</td>\n",
       "    </tr>\n",
       "    <tr>\n",
       "      <th>8</th>\n",
       "      <td>56960363</td>\n",
       "      <td>1</td>\n",
       "    </tr>\n",
       "    <tr>\n",
       "      <th>9</th>\n",
       "      <td>66685450</td>\n",
       "      <td>1</td>\n",
       "    </tr>\n",
       "  </tbody>\n",
       "</table>\n",
       "</div>"
      ],
      "text/plain": [
       "   visitorId  group\n",
       "0    5114589      1\n",
       "1    6958315      1\n",
       "2    8300375      2\n",
       "3   11685486      1\n",
       "4   39475350      1\n",
       "5   47206413      1\n",
       "6   48147722      1\n",
       "7   54447517      1\n",
       "8   56960363      1\n",
       "9   66685450      1"
      ]
     },
     "execution_count": 15,
     "metadata": {},
     "output_type": "execute_result"
    }
   ],
   "source": [
    "id_two_groups= orders_data.groupby('visitorId', as_index=False).agg({'group':'nunique'})\n",
    "id_two_groups.head(10)\n"
   ]
  },
  {
   "cell_type": "code",
   "execution_count": 16,
   "id": "6fbc5c3c",
   "metadata": {
    "scrolled": false
   },
   "outputs": [
    {
     "data": {
      "text/plain": [
       "1    973\n",
       "2     58\n",
       "Name: group, dtype: int64"
      ]
     },
     "execution_count": 16,
     "metadata": {},
     "output_type": "execute_result"
    }
   ],
   "source": [
    "id_two_groups['group'].value_counts()"
   ]
  },
  {
   "cell_type": "code",
   "execution_count": 17,
   "id": "06974a99",
   "metadata": {},
   "outputs": [],
   "source": [
    "values_list= list(id_two_groups[id_two_groups['group']==2]['visitorId'])\n"
   ]
  },
  {
   "cell_type": "code",
   "execution_count": 18,
   "id": "b34d1e39",
   "metadata": {
    "scrolled": true
   },
   "outputs": [],
   "source": [
    "orders_data_new= orders_data[~orders_data['visitorId'].isin(values_list)]\n"
   ]
  },
  {
   "cell_type": "code",
   "execution_count": 19,
   "id": "36c7b406",
   "metadata": {
    "scrolled": false
   },
   "outputs": [
    {
     "data": {
      "text/html": [
       "<div>\n",
       "<style scoped>\n",
       "    .dataframe tbody tr th:only-of-type {\n",
       "        vertical-align: middle;\n",
       "    }\n",
       "\n",
       "    .dataframe tbody tr th {\n",
       "        vertical-align: top;\n",
       "    }\n",
       "\n",
       "    .dataframe thead th {\n",
       "        text-align: right;\n",
       "    }\n",
       "</style>\n",
       "<table border=\"1\" class=\"dataframe\">\n",
       "  <thead>\n",
       "    <tr style=\"text-align: right;\">\n",
       "      <th></th>\n",
       "      <th>transactionId</th>\n",
       "      <th>visitorId</th>\n",
       "      <th>date</th>\n",
       "      <th>revenue</th>\n",
       "      <th>group</th>\n",
       "    </tr>\n",
       "  </thead>\n",
       "  <tbody>\n",
       "    <tr>\n",
       "      <th>0</th>\n",
       "      <td>3667963787</td>\n",
       "      <td>3312258926</td>\n",
       "      <td>2019-08-15</td>\n",
       "      <td>30.4</td>\n",
       "      <td>B</td>\n",
       "    </tr>\n",
       "    <tr>\n",
       "      <th>1</th>\n",
       "      <td>2804400009</td>\n",
       "      <td>3642806036</td>\n",
       "      <td>2019-08-15</td>\n",
       "      <td>15.2</td>\n",
       "      <td>B</td>\n",
       "    </tr>\n",
       "    <tr>\n",
       "      <th>3</th>\n",
       "      <td>3797467345</td>\n",
       "      <td>1196621759</td>\n",
       "      <td>2019-08-15</td>\n",
       "      <td>155.1</td>\n",
       "      <td>B</td>\n",
       "    </tr>\n",
       "    <tr>\n",
       "      <th>4</th>\n",
       "      <td>2282983706</td>\n",
       "      <td>2322279887</td>\n",
       "      <td>2019-08-15</td>\n",
       "      <td>40.5</td>\n",
       "      <td>B</td>\n",
       "    </tr>\n",
       "    <tr>\n",
       "      <th>5</th>\n",
       "      <td>182168103</td>\n",
       "      <td>935554773</td>\n",
       "      <td>2019-08-15</td>\n",
       "      <td>35.0</td>\n",
       "      <td>B</td>\n",
       "    </tr>\n",
       "    <tr>\n",
       "      <th>...</th>\n",
       "      <td>...</td>\n",
       "      <td>...</td>\n",
       "      <td>...</td>\n",
       "      <td>...</td>\n",
       "      <td>...</td>\n",
       "    </tr>\n",
       "    <tr>\n",
       "      <th>1191</th>\n",
       "      <td>3592955527</td>\n",
       "      <td>608641596</td>\n",
       "      <td>2019-08-14</td>\n",
       "      <td>255.7</td>\n",
       "      <td>B</td>\n",
       "    </tr>\n",
       "    <tr>\n",
       "      <th>1192</th>\n",
       "      <td>2662137336</td>\n",
       "      <td>3733762160</td>\n",
       "      <td>2019-08-14</td>\n",
       "      <td>100.8</td>\n",
       "      <td>B</td>\n",
       "    </tr>\n",
       "    <tr>\n",
       "      <th>1193</th>\n",
       "      <td>2203539145</td>\n",
       "      <td>370388673</td>\n",
       "      <td>2019-08-14</td>\n",
       "      <td>50.1</td>\n",
       "      <td>A</td>\n",
       "    </tr>\n",
       "    <tr>\n",
       "      <th>1194</th>\n",
       "      <td>1807773912</td>\n",
       "      <td>573423106</td>\n",
       "      <td>2019-08-14</td>\n",
       "      <td>165.3</td>\n",
       "      <td>A</td>\n",
       "    </tr>\n",
       "    <tr>\n",
       "      <th>1196</th>\n",
       "      <td>3936777065</td>\n",
       "      <td>2108080724</td>\n",
       "      <td>2019-08-15</td>\n",
       "      <td>3120.1</td>\n",
       "      <td>B</td>\n",
       "    </tr>\n",
       "  </tbody>\n",
       "</table>\n",
       "<p>1016 rows × 5 columns</p>\n",
       "</div>"
      ],
      "text/plain": [
       "      transactionId   visitorId       date  revenue group\n",
       "0        3667963787  3312258926 2019-08-15     30.4     B\n",
       "1        2804400009  3642806036 2019-08-15     15.2     B\n",
       "3        3797467345  1196621759 2019-08-15    155.1     B\n",
       "4        2282983706  2322279887 2019-08-15     40.5     B\n",
       "5         182168103   935554773 2019-08-15     35.0     B\n",
       "...             ...         ...        ...      ...   ...\n",
       "1191     3592955527   608641596 2019-08-14    255.7     B\n",
       "1192     2662137336  3733762160 2019-08-14    100.8     B\n",
       "1193     2203539145   370388673 2019-08-14     50.1     A\n",
       "1194     1807773912   573423106 2019-08-14    165.3     A\n",
       "1196     3936777065  2108080724 2019-08-15   3120.1     B\n",
       "\n",
       "[1016 rows x 5 columns]"
      ]
     },
     "execution_count": 19,
     "metadata": {},
     "output_type": "execute_result"
    }
   ],
   "source": [
    "orders_data_new"
   ]
  },
  {
   "cell_type": "code",
   "execution_count": 20,
   "id": "b28eb087",
   "metadata": {},
   "outputs": [
    {
     "data": {
      "text/plain": [
       "B    548\n",
       "A    468\n",
       "Name: group, dtype: int64"
      ]
     },
     "execution_count": 20,
     "metadata": {},
     "output_type": "execute_result"
    }
   ],
   "source": [
    "orders_data_new['group'].value_counts()"
   ]
  },
  {
   "cell_type": "markdown",
   "id": "ca372dfd",
   "metadata": {},
   "source": [
    "**<font size=\"4\"><font color='green'>Visits Table**"
   ]
  },
  {
   "cell_type": "code",
   "execution_count": 21,
   "id": "95470d43",
   "metadata": {},
   "outputs": [],
   "source": [
    "try:\n",
    "    visits_data= pd.read_csv(r'C:\\Users\\keren\\Desktop\\data analyst\\Making Business Decisions Based on Data\\project\\moved_visits_us.csv')  \n",
    "except:\n",
    "    visits_data= pd.read_csv(r'/datasets/visits_us.csv')"
   ]
  },
  {
   "cell_type": "code",
   "execution_count": 22,
   "id": "b6633530",
   "metadata": {},
   "outputs": [
    {
     "name": "stdout",
     "output_type": "stream",
     "text": [
      "<class 'pandas.core.frame.DataFrame'>\n",
      "RangeIndex: 62 entries, 0 to 61\n",
      "Data columns (total 3 columns):\n",
      " #   Column  Non-Null Count  Dtype \n",
      "---  ------  --------------  ----- \n",
      " 0   date    62 non-null     object\n",
      " 1   group   62 non-null     object\n",
      " 2   visits  62 non-null     int64 \n",
      "dtypes: int64(1), object(2)\n",
      "memory usage: 8.2 KB\n"
     ]
    }
   ],
   "source": [
    "visits_data.info(memory_usage= 'deep')"
   ]
  },
  {
   "cell_type": "code",
   "execution_count": 23,
   "id": "9048eb6f",
   "metadata": {},
   "outputs": [],
   "source": [
    "def read_visits(path):\n",
    "    return pd.read_csv( path,\n",
    "        parse_dates=['date'],)\n",
    "\n",
    "try:\n",
    "    visits_data= read_visits(r'C:\\Users\\keren\\Desktop\\data analyst\\Making Business Decisions Based on Data\\project\\moved_visits_us.csv')\n",
    "except FileNotFoundError:\n",
    "    visits_data= read_visits(r'/datasets/visits_us.csv')"
   ]
  },
  {
   "cell_type": "code",
   "execution_count": 24,
   "id": "47083076",
   "metadata": {},
   "outputs": [
    {
     "name": "stdout",
     "output_type": "stream",
     "text": [
      "<class 'pandas.core.frame.DataFrame'>\n",
      "RangeIndex: 62 entries, 0 to 61\n",
      "Data columns (total 3 columns):\n",
      " #   Column  Non-Null Count  Dtype         \n",
      "---  ------  --------------  -----         \n",
      " 0   date    62 non-null     datetime64[ns]\n",
      " 1   group   62 non-null     object        \n",
      " 2   visits  62 non-null     int64         \n",
      "dtypes: datetime64[ns](1), int64(1), object(1)\n",
      "memory usage: 4.6 KB\n"
     ]
    }
   ],
   "source": [
    "visits_data.info(memory_usage= 'deep')"
   ]
  },
  {
   "cell_type": "code",
   "execution_count": 25,
   "id": "ac9e2faa",
   "metadata": {},
   "outputs": [
    {
     "data": {
      "text/html": [
       "<div>\n",
       "<style scoped>\n",
       "    .dataframe tbody tr th:only-of-type {\n",
       "        vertical-align: middle;\n",
       "    }\n",
       "\n",
       "    .dataframe tbody tr th {\n",
       "        vertical-align: top;\n",
       "    }\n",
       "\n",
       "    .dataframe thead th {\n",
       "        text-align: right;\n",
       "    }\n",
       "</style>\n",
       "<table border=\"1\" class=\"dataframe\">\n",
       "  <thead>\n",
       "    <tr style=\"text-align: right;\">\n",
       "      <th></th>\n",
       "      <th>date</th>\n",
       "      <th>group</th>\n",
       "      <th>visits</th>\n",
       "    </tr>\n",
       "  </thead>\n",
       "  <tbody>\n",
       "    <tr>\n",
       "      <th>0</th>\n",
       "      <td>2019-08-01</td>\n",
       "      <td>A</td>\n",
       "      <td>719</td>\n",
       "    </tr>\n",
       "    <tr>\n",
       "      <th>1</th>\n",
       "      <td>2019-08-02</td>\n",
       "      <td>A</td>\n",
       "      <td>619</td>\n",
       "    </tr>\n",
       "    <tr>\n",
       "      <th>2</th>\n",
       "      <td>2019-08-03</td>\n",
       "      <td>A</td>\n",
       "      <td>507</td>\n",
       "    </tr>\n",
       "    <tr>\n",
       "      <th>3</th>\n",
       "      <td>2019-08-04</td>\n",
       "      <td>A</td>\n",
       "      <td>717</td>\n",
       "    </tr>\n",
       "    <tr>\n",
       "      <th>4</th>\n",
       "      <td>2019-08-05</td>\n",
       "      <td>A</td>\n",
       "      <td>756</td>\n",
       "    </tr>\n",
       "  </tbody>\n",
       "</table>\n",
       "</div>"
      ],
      "text/plain": [
       "        date group  visits\n",
       "0 2019-08-01     A     719\n",
       "1 2019-08-02     A     619\n",
       "2 2019-08-03     A     507\n",
       "3 2019-08-04     A     717\n",
       "4 2019-08-05     A     756"
      ]
     },
     "execution_count": 25,
     "metadata": {},
     "output_type": "execute_result"
    }
   ],
   "source": [
    "visits_data.head()"
   ]
  },
  {
   "cell_type": "code",
   "execution_count": 26,
   "id": "8bcb03e5",
   "metadata": {},
   "outputs": [
    {
     "data": {
      "text/plain": [
       "date      0\n",
       "group     0\n",
       "visits    0\n",
       "dtype: int64"
      ]
     },
     "execution_count": 26,
     "metadata": {},
     "output_type": "execute_result"
    }
   ],
   "source": [
    "visits_data.isna().sum()\n"
   ]
  },
  {
   "cell_type": "code",
   "execution_count": 27,
   "id": "80508afd",
   "metadata": {},
   "outputs": [
    {
     "data": {
      "text/plain": [
       "0"
      ]
     },
     "execution_count": 27,
     "metadata": {},
     "output_type": "execute_result"
    }
   ],
   "source": [
    "visits_data.duplicated().sum()\n"
   ]
  },
  {
   "cell_type": "markdown",
   "id": "824da330",
   "metadata": {},
   "source": [
    "**<font size=\"5\"><font color='green'>Part 1: Prioritizing Hypotheses**"
   ]
  },
  {
   "cell_type": "markdown",
   "id": "f6f69597",
   "metadata": {},
   "source": [
    "**Apply the ICE framework to prioritize hypotheses**"
   ]
  },
  {
   "cell_type": "code",
   "execution_count": 28,
   "id": "63cc3229",
   "metadata": {},
   "outputs": [
    {
     "name": "stdout",
     "output_type": "stream",
     "text": [
      "Our hypothesis Prioritized by ICE:\n"
     ]
    },
    {
     "data": {
      "text/html": [
       "<div>\n",
       "<style scoped>\n",
       "    .dataframe tbody tr th:only-of-type {\n",
       "        vertical-align: middle;\n",
       "    }\n",
       "\n",
       "    .dataframe tbody tr th {\n",
       "        vertical-align: top;\n",
       "    }\n",
       "\n",
       "    .dataframe thead th {\n",
       "        text-align: right;\n",
       "    }\n",
       "</style>\n",
       "<table border=\"1\" class=\"dataframe\">\n",
       "  <thead>\n",
       "    <tr style=\"text-align: right;\">\n",
       "      <th></th>\n",
       "      <th>hypothesis</th>\n",
       "      <th>ice_score</th>\n",
       "    </tr>\n",
       "  </thead>\n",
       "  <tbody>\n",
       "    <tr>\n",
       "      <th>8</th>\n",
       "      <td>Launch a promotion that gives users discounts ...</td>\n",
       "      <td>16.200000</td>\n",
       "    </tr>\n",
       "    <tr>\n",
       "      <th>0</th>\n",
       "      <td>Add two new channels for attracting traffic. T...</td>\n",
       "      <td>13.333333</td>\n",
       "    </tr>\n",
       "    <tr>\n",
       "      <th>7</th>\n",
       "      <td>Add a subscription form to all the main pages....</td>\n",
       "      <td>11.200000</td>\n",
       "    </tr>\n",
       "    <tr>\n",
       "      <th>6</th>\n",
       "      <td>Show banners with current offers and sales on ...</td>\n",
       "      <td>8.000000</td>\n",
       "    </tr>\n",
       "    <tr>\n",
       "      <th>2</th>\n",
       "      <td>Add product recommendation blocks to the store...</td>\n",
       "      <td>7.000000</td>\n",
       "    </tr>\n",
       "    <tr>\n",
       "      <th>1</th>\n",
       "      <td>Launch your own delivery service. This will sh...</td>\n",
       "      <td>2.000000</td>\n",
       "    </tr>\n",
       "    <tr>\n",
       "      <th>5</th>\n",
       "      <td>Add a customer review page. This will increase...</td>\n",
       "      <td>1.333333</td>\n",
       "    </tr>\n",
       "    <tr>\n",
       "      <th>3</th>\n",
       "      <td>Change the category structure. This will incre...</td>\n",
       "      <td>1.125000</td>\n",
       "    </tr>\n",
       "    <tr>\n",
       "      <th>4</th>\n",
       "      <td>Change the background color on the main page. ...</td>\n",
       "      <td>1.000000</td>\n",
       "    </tr>\n",
       "  </tbody>\n",
       "</table>\n",
       "</div>"
      ],
      "text/plain": [
       "                                          hypothesis  ice_score\n",
       "8  Launch a promotion that gives users discounts ...  16.200000\n",
       "0  Add two new channels for attracting traffic. T...  13.333333\n",
       "7  Add a subscription form to all the main pages....  11.200000\n",
       "6  Show banners with current offers and sales on ...   8.000000\n",
       "2  Add product recommendation blocks to the store...   7.000000\n",
       "1  Launch your own delivery service. This will sh...   2.000000\n",
       "5  Add a customer review page. This will increase...   1.333333\n",
       "3  Change the category structure. This will incre...   1.125000\n",
       "4  Change the background color on the main page. ...   1.000000"
      ]
     },
     "execution_count": 28,
     "metadata": {},
     "output_type": "execute_result"
    }
   ],
   "source": [
    "hypotheses_data['ice_score']= (hypotheses_data['impact'] * hypotheses_data['confidence']) / hypotheses_data['effort']\n",
    "hypotheses_data= hypotheses_data.sort_values('ice_score', ascending=False)\n",
    "print('Our hypothesis Prioritized by ICE:')\n",
    "frame=hypotheses_data[['hypothesis', 'ice_score']]\n",
    "frame"
   ]
  },
  {
   "cell_type": "markdown",
   "id": "0aa691bd",
   "metadata": {},
   "source": [
    "**Apply the RICE framework to prioritize hypotheses**"
   ]
  },
  {
   "cell_type": "code",
   "execution_count": 29,
   "id": "aa027b90",
   "metadata": {},
   "outputs": [
    {
     "name": "stdout",
     "output_type": "stream",
     "text": [
      "Our hypothesis Prioritized by RICE:\n"
     ]
    },
    {
     "data": {
      "text/html": [
       "<div>\n",
       "<style scoped>\n",
       "    .dataframe tbody tr th:only-of-type {\n",
       "        vertical-align: middle;\n",
       "    }\n",
       "\n",
       "    .dataframe tbody tr th {\n",
       "        vertical-align: top;\n",
       "    }\n",
       "\n",
       "    .dataframe thead th {\n",
       "        text-align: right;\n",
       "    }\n",
       "</style>\n",
       "<table border=\"1\" class=\"dataframe\">\n",
       "  <thead>\n",
       "    <tr style=\"text-align: right;\">\n",
       "      <th></th>\n",
       "      <th>hypothesis</th>\n",
       "      <th>rice_score</th>\n",
       "    </tr>\n",
       "  </thead>\n",
       "  <tbody>\n",
       "    <tr>\n",
       "      <th>7</th>\n",
       "      <td>Add a subscription form to all the main pages....</td>\n",
       "      <td>112.0</td>\n",
       "    </tr>\n",
       "    <tr>\n",
       "      <th>2</th>\n",
       "      <td>Add product recommendation blocks to the store...</td>\n",
       "      <td>56.0</td>\n",
       "    </tr>\n",
       "    <tr>\n",
       "      <th>0</th>\n",
       "      <td>Add two new channels for attracting traffic. T...</td>\n",
       "      <td>40.0</td>\n",
       "    </tr>\n",
       "    <tr>\n",
       "      <th>6</th>\n",
       "      <td>Show banners with current offers and sales on ...</td>\n",
       "      <td>40.0</td>\n",
       "    </tr>\n",
       "    <tr>\n",
       "      <th>8</th>\n",
       "      <td>Launch a promotion that gives users discounts ...</td>\n",
       "      <td>16.2</td>\n",
       "    </tr>\n",
       "    <tr>\n",
       "      <th>3</th>\n",
       "      <td>Change the category structure. This will incre...</td>\n",
       "      <td>9.0</td>\n",
       "    </tr>\n",
       "    <tr>\n",
       "      <th>1</th>\n",
       "      <td>Launch your own delivery service. This will sh...</td>\n",
       "      <td>4.0</td>\n",
       "    </tr>\n",
       "    <tr>\n",
       "      <th>5</th>\n",
       "      <td>Add a customer review page. This will increase...</td>\n",
       "      <td>4.0</td>\n",
       "    </tr>\n",
       "    <tr>\n",
       "      <th>4</th>\n",
       "      <td>Change the background color on the main page. ...</td>\n",
       "      <td>3.0</td>\n",
       "    </tr>\n",
       "  </tbody>\n",
       "</table>\n",
       "</div>"
      ],
      "text/plain": [
       "                                          hypothesis  rice_score\n",
       "7  Add a subscription form to all the main pages....       112.0\n",
       "2  Add product recommendation blocks to the store...        56.0\n",
       "0  Add two new channels for attracting traffic. T...        40.0\n",
       "6  Show banners with current offers and sales on ...        40.0\n",
       "8  Launch a promotion that gives users discounts ...        16.2\n",
       "3  Change the category structure. This will incre...         9.0\n",
       "1  Launch your own delivery service. This will sh...         4.0\n",
       "5  Add a customer review page. This will increase...         4.0\n",
       "4  Change the background color on the main page. ...         3.0"
      ]
     },
     "execution_count": 29,
     "metadata": {},
     "output_type": "execute_result"
    }
   ],
   "source": [
    "hypotheses_data['rice_score']= (hypotheses_data['reach'] * hypotheses_data['impact'] * hypotheses_data['confidence']) / hypotheses_data['effort']\n",
    "hypotheses_data= hypotheses_data.sort_values('rice_score', ascending=False)\n",
    "print('Our hypothesis Prioritized by RICE:')\n",
    "frame=hypotheses_data[['hypothesis', 'rice_score']]\n",
    "frame"
   ]
  },
  {
   "cell_type": "markdown",
   "id": "0b3aeab0",
   "metadata": {},
   "source": [
    "**how the prioritization of hypotheses changes when you use RICE instead of ICE?**"
   ]
  },
  {
   "cell_type": "code",
   "execution_count": 30,
   "id": "41932f49",
   "metadata": {
    "scrolled": true
   },
   "outputs": [
    {
     "data": {
      "text/html": [
       "<div>\n",
       "<style scoped>\n",
       "    .dataframe tbody tr th:only-of-type {\n",
       "        vertical-align: middle;\n",
       "    }\n",
       "\n",
       "    .dataframe tbody tr th {\n",
       "        vertical-align: top;\n",
       "    }\n",
       "\n",
       "    .dataframe thead th {\n",
       "        text-align: right;\n",
       "    }\n",
       "</style>\n",
       "<table border=\"1\" class=\"dataframe\">\n",
       "  <thead>\n",
       "    <tr style=\"text-align: right;\">\n",
       "      <th></th>\n",
       "      <th>hypothesis</th>\n",
       "      <th>reach</th>\n",
       "      <th>impact</th>\n",
       "      <th>confidence</th>\n",
       "      <th>effort</th>\n",
       "      <th>ice_score</th>\n",
       "      <th>rice_score</th>\n",
       "    </tr>\n",
       "  </thead>\n",
       "  <tbody>\n",
       "    <tr>\n",
       "      <th>7</th>\n",
       "      <td>Add a subscription form to all the main pages....</td>\n",
       "      <td>10</td>\n",
       "      <td>7</td>\n",
       "      <td>8</td>\n",
       "      <td>5</td>\n",
       "      <td>11.200000</td>\n",
       "      <td>112.0</td>\n",
       "    </tr>\n",
       "    <tr>\n",
       "      <th>2</th>\n",
       "      <td>Add product recommendation blocks to the store...</td>\n",
       "      <td>8</td>\n",
       "      <td>3</td>\n",
       "      <td>7</td>\n",
       "      <td>3</td>\n",
       "      <td>7.000000</td>\n",
       "      <td>56.0</td>\n",
       "    </tr>\n",
       "    <tr>\n",
       "      <th>0</th>\n",
       "      <td>Add two new channels for attracting traffic. T...</td>\n",
       "      <td>3</td>\n",
       "      <td>10</td>\n",
       "      <td>8</td>\n",
       "      <td>6</td>\n",
       "      <td>13.333333</td>\n",
       "      <td>40.0</td>\n",
       "    </tr>\n",
       "    <tr>\n",
       "      <th>6</th>\n",
       "      <td>Show banners with current offers and sales on ...</td>\n",
       "      <td>5</td>\n",
       "      <td>3</td>\n",
       "      <td>8</td>\n",
       "      <td>3</td>\n",
       "      <td>8.000000</td>\n",
       "      <td>40.0</td>\n",
       "    </tr>\n",
       "    <tr>\n",
       "      <th>8</th>\n",
       "      <td>Launch a promotion that gives users discounts ...</td>\n",
       "      <td>1</td>\n",
       "      <td>9</td>\n",
       "      <td>9</td>\n",
       "      <td>5</td>\n",
       "      <td>16.200000</td>\n",
       "      <td>16.2</td>\n",
       "    </tr>\n",
       "  </tbody>\n",
       "</table>\n",
       "</div>"
      ],
      "text/plain": [
       "                                          hypothesis  reach  impact  \\\n",
       "7  Add a subscription form to all the main pages....     10       7   \n",
       "2  Add product recommendation blocks to the store...      8       3   \n",
       "0  Add two new channels for attracting traffic. T...      3      10   \n",
       "6  Show banners with current offers and sales on ...      5       3   \n",
       "8  Launch a promotion that gives users discounts ...      1       9   \n",
       "\n",
       "   confidence  effort  ice_score  rice_score  \n",
       "7           8       5  11.200000       112.0  \n",
       "2           7       3   7.000000        56.0  \n",
       "0           8       6  13.333333        40.0  \n",
       "6           8       3   8.000000        40.0  \n",
       "8           9       5  16.200000        16.2  "
      ]
     },
     "execution_count": 30,
     "metadata": {},
     "output_type": "execute_result"
    }
   ],
   "source": [
    "hypotheses_data.head()"
   ]
  },
  {
   "cell_type": "code",
   "execution_count": 31,
   "id": "5a314fff",
   "metadata": {},
   "outputs": [
    {
     "data": {
      "text/html": [
       "<div>\n",
       "<style scoped>\n",
       "    .dataframe tbody tr th:only-of-type {\n",
       "        vertical-align: middle;\n",
       "    }\n",
       "\n",
       "    .dataframe tbody tr th {\n",
       "        vertical-align: top;\n",
       "    }\n",
       "\n",
       "    .dataframe thead th {\n",
       "        text-align: right;\n",
       "    }\n",
       "</style>\n",
       "<table border=\"1\" class=\"dataframe\">\n",
       "  <thead>\n",
       "    <tr style=\"text-align: right;\">\n",
       "      <th></th>\n",
       "      <th>hypothesis</th>\n",
       "      <th>reach</th>\n",
       "      <th>impact</th>\n",
       "      <th>confidence</th>\n",
       "      <th>effort</th>\n",
       "      <th>ice_score</th>\n",
       "      <th>rice_score</th>\n",
       "    </tr>\n",
       "  </thead>\n",
       "  <tbody>\n",
       "    <tr>\n",
       "      <th>8</th>\n",
       "      <td>Launch a promotion that gives users discounts ...</td>\n",
       "      <td>1</td>\n",
       "      <td>9</td>\n",
       "      <td>9</td>\n",
       "      <td>5</td>\n",
       "      <td>16.200000</td>\n",
       "      <td>16.2</td>\n",
       "    </tr>\n",
       "    <tr>\n",
       "      <th>3</th>\n",
       "      <td>Change the category structure. This will incre...</td>\n",
       "      <td>8</td>\n",
       "      <td>3</td>\n",
       "      <td>3</td>\n",
       "      <td>8</td>\n",
       "      <td>1.125000</td>\n",
       "      <td>9.0</td>\n",
       "    </tr>\n",
       "    <tr>\n",
       "      <th>1</th>\n",
       "      <td>Launch your own delivery service. This will sh...</td>\n",
       "      <td>2</td>\n",
       "      <td>5</td>\n",
       "      <td>4</td>\n",
       "      <td>10</td>\n",
       "      <td>2.000000</td>\n",
       "      <td>4.0</td>\n",
       "    </tr>\n",
       "    <tr>\n",
       "      <th>5</th>\n",
       "      <td>Add a customer review page. This will increase...</td>\n",
       "      <td>3</td>\n",
       "      <td>2</td>\n",
       "      <td>2</td>\n",
       "      <td>3</td>\n",
       "      <td>1.333333</td>\n",
       "      <td>4.0</td>\n",
       "    </tr>\n",
       "    <tr>\n",
       "      <th>4</th>\n",
       "      <td>Change the background color on the main page. ...</td>\n",
       "      <td>3</td>\n",
       "      <td>1</td>\n",
       "      <td>1</td>\n",
       "      <td>1</td>\n",
       "      <td>1.000000</td>\n",
       "      <td>3.0</td>\n",
       "    </tr>\n",
       "  </tbody>\n",
       "</table>\n",
       "</div>"
      ],
      "text/plain": [
       "                                          hypothesis  reach  impact  \\\n",
       "8  Launch a promotion that gives users discounts ...      1       9   \n",
       "3  Change the category structure. This will incre...      8       3   \n",
       "1  Launch your own delivery service. This will sh...      2       5   \n",
       "5  Add a customer review page. This will increase...      3       2   \n",
       "4  Change the background color on the main page. ...      3       1   \n",
       "\n",
       "   confidence  effort  ice_score  rice_score  \n",
       "8           9       5  16.200000        16.2  \n",
       "3           3       8   1.125000         9.0  \n",
       "1           4      10   2.000000         4.0  \n",
       "5           2       3   1.333333         4.0  \n",
       "4           1       1   1.000000         3.0  "
      ]
     },
     "execution_count": 31,
     "metadata": {},
     "output_type": "execute_result"
    }
   ],
   "source": [
    "hypotheses_data.tail()"
   ]
  },
  {
   "cell_type": "markdown",
   "id": "92b1dec3",
   "metadata": {},
   "source": [
    "<font color='green'>RICE and ICE are popular and simple prioritization techniques.\n",
    "\n",
    "<font color='green'>To get a RICE score, we need to combine Reach,Impact,Confidence,Effort — labor costs factors.\n",
    "    \n",
    "<font color='green'>The reach shows the level of coverage is measured by the number of people/events over a certain period of time. This factor is designed to estimate how many people each feature or project will affect over a certain period of time, and how many of your users will see such changes.\n",
    "    \n",
    "<font color='green'>To get a ICE score, we need to combine Impact, Confidence, Effort factors.\n",
    "\n",
    "<font color='green'>the entire order changes when using rice insted of ice, because we used more variabeles in our calculations.\n",
    "\n",
    "<font color='green'>we can see that the top 5 hypothesis stays the top 5 in both orders and bottom 5 stays the bottom 5, but the order is completly differnt , except hypothesis number 4 which is last place by both orders, so this one is really our last to check.\n",
    "for all other hypothesis the orders completely changes in top 5 and bottom 4.\n",
    "\n",
    "<font color='green'>we use the ICE model when you dont feel the need to differentiate between reach and impact, but in an online store we will need the newer calculation RICE which is taking in account both reach and impact.\n",
    "\n",
    "**<font color='green'>for the online stores its better to take RICE as the prioritzer**"
   ]
  },
  {
   "cell_type": "markdown",
   "id": "36f0260e",
   "metadata": {},
   "source": [
    "**<font size=\"5\"><font color='green'>Part 2: A/B Test Analysis**\n"
   ]
  },
  {
   "cell_type": "markdown",
   "id": "b628f066",
   "metadata": {},
   "source": [
    "**<font size=\"3\">Graph cumulative revenue by group. Make conclusions and conjectures.**"
   ]
  },
  {
   "cell_type": "code",
   "execution_count": 32,
   "id": "5b890697",
   "metadata": {
    "scrolled": false
   },
   "outputs": [
    {
     "data": {
      "text/html": [
       "<div>\n",
       "<style scoped>\n",
       "    .dataframe tbody tr th:only-of-type {\n",
       "        vertical-align: middle;\n",
       "    }\n",
       "\n",
       "    .dataframe tbody tr th {\n",
       "        vertical-align: top;\n",
       "    }\n",
       "\n",
       "    .dataframe thead th {\n",
       "        text-align: right;\n",
       "    }\n",
       "</style>\n",
       "<table border=\"1\" class=\"dataframe\">\n",
       "  <thead>\n",
       "    <tr style=\"text-align: right;\">\n",
       "      <th></th>\n",
       "      <th>date</th>\n",
       "      <th>group</th>\n",
       "      <th>orders</th>\n",
       "      <th>buyers</th>\n",
       "      <th>revenue</th>\n",
       "    </tr>\n",
       "  </thead>\n",
       "  <tbody>\n",
       "    <tr>\n",
       "      <th>55</th>\n",
       "      <td>2019-08-01</td>\n",
       "      <td>A</td>\n",
       "      <td>23</td>\n",
       "      <td>19</td>\n",
       "      <td>2266.6</td>\n",
       "    </tr>\n",
       "    <tr>\n",
       "      <th>66</th>\n",
       "      <td>2019-08-01</td>\n",
       "      <td>B</td>\n",
       "      <td>17</td>\n",
       "      <td>17</td>\n",
       "      <td>967.2</td>\n",
       "    </tr>\n",
       "    <tr>\n",
       "      <th>175</th>\n",
       "      <td>2019-08-02</td>\n",
       "      <td>A</td>\n",
       "      <td>42</td>\n",
       "      <td>36</td>\n",
       "      <td>3734.9</td>\n",
       "    </tr>\n",
       "    <tr>\n",
       "      <th>173</th>\n",
       "      <td>2019-08-02</td>\n",
       "      <td>B</td>\n",
       "      <td>40</td>\n",
       "      <td>39</td>\n",
       "      <td>3535.3</td>\n",
       "    </tr>\n",
       "    <tr>\n",
       "      <th>291</th>\n",
       "      <td>2019-08-03</td>\n",
       "      <td>A</td>\n",
       "      <td>66</td>\n",
       "      <td>60</td>\n",
       "      <td>5550.1</td>\n",
       "    </tr>\n",
       "    <tr>\n",
       "      <th>...</th>\n",
       "      <td>...</td>\n",
       "      <td>...</td>\n",
       "      <td>...</td>\n",
       "      <td>...</td>\n",
       "      <td>...</td>\n",
       "    </tr>\n",
       "    <tr>\n",
       "      <th>533</th>\n",
       "      <td>2019-08-29</td>\n",
       "      <td>B</td>\n",
       "      <td>510</td>\n",
       "      <td>490</td>\n",
       "      <td>74576.7</td>\n",
       "    </tr>\n",
       "    <tr>\n",
       "      <th>757</th>\n",
       "      <td>2019-08-30</td>\n",
       "      <td>A</td>\n",
       "      <td>460</td>\n",
       "      <td>437</td>\n",
       "      <td>52363.7</td>\n",
       "    </tr>\n",
       "    <tr>\n",
       "      <th>690</th>\n",
       "      <td>2019-08-30</td>\n",
       "      <td>B</td>\n",
       "      <td>531</td>\n",
       "      <td>511</td>\n",
       "      <td>77863.5</td>\n",
       "    </tr>\n",
       "    <tr>\n",
       "      <th>958</th>\n",
       "      <td>2019-08-31</td>\n",
       "      <td>A</td>\n",
       "      <td>468</td>\n",
       "      <td>445</td>\n",
       "      <td>53212.0</td>\n",
       "    </tr>\n",
       "    <tr>\n",
       "      <th>930</th>\n",
       "      <td>2019-08-31</td>\n",
       "      <td>B</td>\n",
       "      <td>548</td>\n",
       "      <td>528</td>\n",
       "      <td>79651.2</td>\n",
       "    </tr>\n",
       "  </tbody>\n",
       "</table>\n",
       "<p>62 rows × 5 columns</p>\n",
       "</div>"
      ],
      "text/plain": [
       "          date group  orders  buyers  revenue\n",
       "55  2019-08-01     A      23      19   2266.6\n",
       "66  2019-08-01     B      17      17    967.2\n",
       "175 2019-08-02     A      42      36   3734.9\n",
       "173 2019-08-02     B      40      39   3535.3\n",
       "291 2019-08-03     A      66      60   5550.1\n",
       "..         ...   ...     ...     ...      ...\n",
       "533 2019-08-29     B     510     490  74576.7\n",
       "757 2019-08-30     A     460     437  52363.7\n",
       "690 2019-08-30     B     531     511  77863.5\n",
       "958 2019-08-31     A     468     445  53212.0\n",
       "930 2019-08-31     B     548     528  79651.2\n",
       "\n",
       "[62 rows x 5 columns]"
      ]
     },
     "execution_count": 32,
     "metadata": {},
     "output_type": "execute_result"
    }
   ],
   "source": [
    "datesGroups = orders_data_new[['date', 'group']].drop_duplicates()\n",
    "\n",
    "#aggregated cumulative daily data on orders\n",
    "ordersAggregated = datesGroups.apply(\n",
    "    lambda x: orders_data_new[\n",
    "        np.logical_and(\n",
    "            orders_data_new['date'] <= x['date'], orders_data_new['group'] == x['group']\n",
    "        )\n",
    "    ].agg(\n",
    "        {\n",
    "            'date': 'max',\n",
    "            'group': 'max',\n",
    "            'transactionId': pd.Series.nunique,\n",
    "            'visitorId': pd.Series.nunique,\n",
    "            'revenue': 'sum',\n",
    "        }\n",
    "    ),\n",
    "    axis=1,\n",
    ").sort_values(by=['date', 'group'])\n",
    "ordersAggregated.columns = ['date', 'group', 'orders', 'buyers', 'revenue']\n",
    "    \n",
    "ordersAggregated    "
   ]
  },
  {
   "cell_type": "code",
   "execution_count": 33,
   "id": "600c936f",
   "metadata": {
    "scrolled": true
   },
   "outputs": [
    {
     "data": {
      "text/html": [
       "<div>\n",
       "<style scoped>\n",
       "    .dataframe tbody tr th:only-of-type {\n",
       "        vertical-align: middle;\n",
       "    }\n",
       "\n",
       "    .dataframe tbody tr th {\n",
       "        vertical-align: top;\n",
       "    }\n",
       "\n",
       "    .dataframe thead th {\n",
       "        text-align: right;\n",
       "    }\n",
       "</style>\n",
       "<table border=\"1\" class=\"dataframe\">\n",
       "  <thead>\n",
       "    <tr style=\"text-align: right;\">\n",
       "      <th></th>\n",
       "      <th>group</th>\n",
       "      <th>revenue</th>\n",
       "    </tr>\n",
       "  </thead>\n",
       "  <tbody>\n",
       "    <tr>\n",
       "      <th>0</th>\n",
       "      <td>A</td>\n",
       "      <td>27107.451613</td>\n",
       "    </tr>\n",
       "    <tr>\n",
       "      <th>1</th>\n",
       "      <td>B</td>\n",
       "      <td>39235.251613</td>\n",
       "    </tr>\n",
       "  </tbody>\n",
       "</table>\n",
       "</div>"
      ],
      "text/plain": [
       "  group       revenue\n",
       "0     A  27107.451613\n",
       "1     B  39235.251613"
      ]
     },
     "execution_count": 33,
     "metadata": {},
     "output_type": "execute_result"
    }
   ],
   "source": [
    "evr_revenue= ordersAggregated.groupby(['group'])['revenue'].mean().reset_index()\n",
    "evr_revenue"
   ]
  },
  {
   "cell_type": "code",
   "execution_count": 34,
   "id": "e828b33e",
   "metadata": {
    "scrolled": true
   },
   "outputs": [
    {
     "data": {
      "text/html": [
       "<div>\n",
       "<style scoped>\n",
       "    .dataframe tbody tr th:only-of-type {\n",
       "        vertical-align: middle;\n",
       "    }\n",
       "\n",
       "    .dataframe tbody tr th {\n",
       "        vertical-align: top;\n",
       "    }\n",
       "\n",
       "    .dataframe thead th {\n",
       "        text-align: right;\n",
       "    }\n",
       "</style>\n",
       "<table border=\"1\" class=\"dataframe\">\n",
       "  <thead>\n",
       "    <tr style=\"text-align: right;\">\n",
       "      <th></th>\n",
       "      <th>group</th>\n",
       "      <th>buyers</th>\n",
       "    </tr>\n",
       "  </thead>\n",
       "  <tbody>\n",
       "    <tr>\n",
       "      <th>0</th>\n",
       "      <td>A</td>\n",
       "      <td>7469</td>\n",
       "    </tr>\n",
       "    <tr>\n",
       "      <th>1</th>\n",
       "      <td>B</td>\n",
       "      <td>8782</td>\n",
       "    </tr>\n",
       "  </tbody>\n",
       "</table>\n",
       "</div>"
      ],
      "text/plain": [
       "  group  buyers\n",
       "0     A    7469\n",
       "1     B    8782"
      ]
     },
     "execution_count": 34,
     "metadata": {},
     "output_type": "execute_result"
    }
   ],
   "source": [
    "number_of_visitors= ordersAggregated.groupby(['group'])['buyers'].sum().reset_index()\n",
    "number_of_visitors"
   ]
  },
  {
   "cell_type": "code",
   "execution_count": 35,
   "id": "aef1e8a9",
   "metadata": {
    "scrolled": true
   },
   "outputs": [
    {
     "data": {
      "text/plain": [
       "<matplotlib.legend.Legend at 0x7f42e00e1580>"
      ]
     },
     "execution_count": 35,
     "metadata": {},
     "output_type": "execute_result"
    },
    {
     "data": {
      "image/png": "[encoded data removed]",
      "text/plain": [
       "<Figure size 432x288 with 1 Axes>"
      ]
     },
     "metadata": {
      "needs_background": "light"
     },
     "output_type": "display_data"
    }
   ],
   "source": [
    "#Let's plot cumulative revenue graphs by day and A/B test group:\n",
    "cumulativeRevenueA = ordersAggregated[ordersAggregated['group']=='A'][['date','revenue', 'orders']]\n",
    "\n",
    "# DataFrame with cumulative orders and cumulative revenue by day, group B\n",
    "cumulativeRevenueB = ordersAggregated[ordersAggregated['group']=='B'][['date','revenue', 'orders']]\n",
    "\n",
    "# Plotting the group A revenue graph \n",
    "plt.plot(cumulativeRevenueA['date'], cumulativeRevenueA['revenue'], label='A')\n",
    "\n",
    "# Plotting the group B revenue graph \n",
    "plt.plot(cumulativeRevenueB['date'], cumulativeRevenueB['revenue'], label='B')\n",
    "\n",
    "plt.title('cumulative revenue by group', fontdict={'size':14})\n",
    "plt.xticks(rotation=50)\n",
    "\n",
    "plt.legend() "
   ]
  },
  {
   "cell_type": "markdown",
   "id": "d5413145",
   "metadata": {},
   "source": [
    "<font color='green'>The cumulative metrics of group A are consistently lower than those of group B.\n",
    "\n",
    "<font color='green'>The graph stabilized only toward the half of the test.\n",
    "\n",
    "<font color='green'>Revenue is rising steadily throughout the whole test . thats a good sign. \n",
    "    \n",
    "<font color='green'>however we can see that group B doing better the whole way and after the half it just constantly stays in a much higher point . this may imply either a surge in the number od orders or the presence of very expensive orders in the sample"
   ]
  },
  {
   "cell_type": "markdown",
   "id": "c2922905",
   "metadata": {},
   "source": [
    "**<font size=\"3\">Graph cumulative average order size by group. Make conclusions and conjectures.**"
   ]
  },
  {
   "cell_type": "code",
   "execution_count": 36,
   "id": "52199c4b",
   "metadata": {
    "scrolled": true
   },
   "outputs": [
    {
     "data": {
      "image/png": "[encoded data removed]",
      "text/plain": [
       "<Figure size 432x288 with 1 Axes>"
      ]
     },
     "metadata": {
      "needs_background": "light"
     },
     "output_type": "display_data"
    }
   ],
   "source": [
    "#divide cumulative revenue by the cumulative number of orders\n",
    "plt.plot(cumulativeRevenueA['date'], cumulativeRevenueA['revenue']/cumulativeRevenueA['orders'], label='A')\n",
    "plt.plot(cumulativeRevenueB['date'], cumulativeRevenueB['revenue']/cumulativeRevenueB['orders'], label='B')\n",
    "plt.xticks(rotation=50)\n",
    "plt.legend() \n",
    "plt.title('cumulative average order size by group', fontdict={'size':14})\n",
    "plt.xlabel('date')\n",
    "plt.ylabel('revenue average')\n",
    "plt.xticks(rotation=50)\n",
    "plt.show()"
   ]
  },
  {
   "cell_type": "markdown",
   "id": "0702832b",
   "metadata": {},
   "source": [
    "<font color='green'>Average purchase size in not becoming steady during the test, only by the end of it both stater moving dowen together and this might mean that average purchase sizes are droping.\n",
    "    \n",
    "<font color='green'>we can see that both groups see splikes in revenue at certain points and it is switching all the time, staying steady around the same values but a small pick for A and a huge pick for B . \n",
    "\n",
    "<font color='green'>the surge in group B in the test may have been due  to the presence of large, expensive orders. we need more data on this group to find true average purchase size and establish its level.\n",
    "\n",
    "<font color='green'>I will recommend to continue testing and see if averege sizes stabelize.though still it looks like there is some kind of a general lead here for group B"
   ]
  },
  {
   "cell_type": "markdown",
   "id": "2feb00fe",
   "metadata": {},
   "source": [
    "**<font size=\"3\">Graph the relative difference in cumulative average order size for group B compared with group A. Make conclusions and conjectures.**\n"
   ]
  },
  {
   "cell_type": "code",
   "execution_count": 37,
   "id": "70eb3a10",
   "metadata": {
    "scrolled": true
   },
   "outputs": [
    {
     "data": {
      "image/png": "[encoded data removed]",
      "text/plain": [
       "<Figure size 432x288 with 1 Axes>"
      ]
     },
     "metadata": {
      "needs_background": "light"
     },
     "output_type": "display_data"
    }
   ],
   "source": [
    "# gathering the data into one DataFrame\n",
    "mergedCumulativeRevenue = cumulativeRevenueA.merge(cumulativeRevenueB, left_on='date', right_on='date', how='left', suffixes=['A', 'B'])\n",
    "\n",
    "# plotting a relative difference graph for the average purchase sizes\n",
    "plt.plot(mergedCumulativeRevenue['date'], (mergedCumulativeRevenue['revenueB']/mergedCumulativeRevenue['ordersB'])/(mergedCumulativeRevenue['revenueA']/mergedCumulativeRevenue['ordersA'])-1)\n",
    "plt.title('Relative difference for average order size', fontdict={'size':14})\n",
    "plt.xticks(rotation=50)\n",
    "# adding the X axis\n",
    "plt.axhline(y=0, color='black', linestyle='--') \n",
    "plt.show()"
   ]
  },
  {
   "cell_type": "markdown",
   "id": "2240de16",
   "metadata": {},
   "source": [
    "<font color='green'>At several points the difference between the segments splikes. This means there must be some big orders and outliers.\n",
    "\n",
    "<font color='green'>Seems like most of timegroup  B is higher then group A and has picks but this also changes allong all the way. "
   ]
  },
  {
   "cell_type": "markdown",
   "id": "2ea99940",
   "metadata": {},
   "source": [
    "**<font size=\"3\">Calculate each group's conversion rate as the ratio of orders to the number of visits for each day. \n",
    "Plot the daily conversion rates of the two groups and describe the difference. Draw conclusions and make conjectures.**"
   ]
  },
  {
   "cell_type": "code",
   "execution_count": 38,
   "id": "0e1b4aee",
   "metadata": {},
   "outputs": [
    {
     "data": {
      "text/html": [
       "<div>\n",
       "<style scoped>\n",
       "    .dataframe tbody tr th:only-of-type {\n",
       "        vertical-align: middle;\n",
       "    }\n",
       "\n",
       "    .dataframe tbody tr th {\n",
       "        vertical-align: top;\n",
       "    }\n",
       "\n",
       "    .dataframe thead th {\n",
       "        text-align: right;\n",
       "    }\n",
       "</style>\n",
       "<table border=\"1\" class=\"dataframe\">\n",
       "  <thead>\n",
       "    <tr style=\"text-align: right;\">\n",
       "      <th></th>\n",
       "      <th>date</th>\n",
       "      <th>group</th>\n",
       "      <th>visits</th>\n",
       "    </tr>\n",
       "  </thead>\n",
       "  <tbody>\n",
       "    <tr>\n",
       "      <th>0</th>\n",
       "      <td>2019-08-01</td>\n",
       "      <td>A</td>\n",
       "      <td>719</td>\n",
       "    </tr>\n",
       "    <tr>\n",
       "      <th>1</th>\n",
       "      <td>2019-08-02</td>\n",
       "      <td>A</td>\n",
       "      <td>619</td>\n",
       "    </tr>\n",
       "    <tr>\n",
       "      <th>2</th>\n",
       "      <td>2019-08-03</td>\n",
       "      <td>A</td>\n",
       "      <td>507</td>\n",
       "    </tr>\n",
       "    <tr>\n",
       "      <th>3</th>\n",
       "      <td>2019-08-04</td>\n",
       "      <td>A</td>\n",
       "      <td>717</td>\n",
       "    </tr>\n",
       "    <tr>\n",
       "      <th>4</th>\n",
       "      <td>2019-08-05</td>\n",
       "      <td>A</td>\n",
       "      <td>756</td>\n",
       "    </tr>\n",
       "  </tbody>\n",
       "</table>\n",
       "</div>"
      ],
      "text/plain": [
       "        date group  visits\n",
       "0 2019-08-01     A     719\n",
       "1 2019-08-02     A     619\n",
       "2 2019-08-03     A     507\n",
       "3 2019-08-04     A     717\n",
       "4 2019-08-05     A     756"
      ]
     },
     "execution_count": 38,
     "metadata": {},
     "output_type": "execute_result"
    }
   ],
   "source": [
    "visits_data.head()\n"
   ]
  },
  {
   "cell_type": "code",
   "execution_count": 39,
   "id": "a2cc0c0f",
   "metadata": {
    "scrolled": false
   },
   "outputs": [
    {
     "data": {
      "text/html": [
       "<div>\n",
       "<style scoped>\n",
       "    .dataframe tbody tr th:only-of-type {\n",
       "        vertical-align: middle;\n",
       "    }\n",
       "\n",
       "    .dataframe tbody tr th {\n",
       "        vertical-align: top;\n",
       "    }\n",
       "\n",
       "    .dataframe thead th {\n",
       "        text-align: right;\n",
       "    }\n",
       "</style>\n",
       "<table border=\"1\" class=\"dataframe\">\n",
       "  <thead>\n",
       "    <tr style=\"text-align: right;\">\n",
       "      <th></th>\n",
       "      <th>date</th>\n",
       "      <th>A</th>\n",
       "      <th>B</th>\n",
       "    </tr>\n",
       "  </thead>\n",
       "  <tbody>\n",
       "    <tr>\n",
       "      <th>0</th>\n",
       "      <td>2019-08-01</td>\n",
       "      <td>719</td>\n",
       "      <td>713</td>\n",
       "    </tr>\n",
       "    <tr>\n",
       "      <th>1</th>\n",
       "      <td>2019-08-02</td>\n",
       "      <td>619</td>\n",
       "      <td>581</td>\n",
       "    </tr>\n",
       "    <tr>\n",
       "      <th>2</th>\n",
       "      <td>2019-08-03</td>\n",
       "      <td>507</td>\n",
       "      <td>509</td>\n",
       "    </tr>\n",
       "    <tr>\n",
       "      <th>3</th>\n",
       "      <td>2019-08-04</td>\n",
       "      <td>717</td>\n",
       "      <td>770</td>\n",
       "    </tr>\n",
       "    <tr>\n",
       "      <th>4</th>\n",
       "      <td>2019-08-05</td>\n",
       "      <td>756</td>\n",
       "      <td>707</td>\n",
       "    </tr>\n",
       "  </tbody>\n",
       "</table>\n",
       "</div>"
      ],
      "text/plain": [
       "        date    A    B\n",
       "0 2019-08-01  719  713\n",
       "1 2019-08-02  619  581\n",
       "2 2019-08-03  507  509\n",
       "3 2019-08-04  717  770\n",
       "4 2019-08-05  756  707"
      ]
     },
     "execution_count": 39,
     "metadata": {},
     "output_type": "execute_result"
    }
   ],
   "source": [
    "number_visits_by_group= pd.pivot_table(visits_data, values='visits', index= 'date', columns= 'group', aggfunc=np.sum)\n",
    "number_visits_by_group= pd.DataFrame(number_visits_by_group.to_records())\n",
    "number_visits_by_group.head()"
   ]
  },
  {
   "cell_type": "code",
   "execution_count": 40,
   "id": "859a59bf",
   "metadata": {},
   "outputs": [
    {
     "data": {
      "text/html": [
       "<div>\n",
       "<style scoped>\n",
       "    .dataframe tbody tr th:only-of-type {\n",
       "        vertical-align: middle;\n",
       "    }\n",
       "\n",
       "    .dataframe tbody tr th {\n",
       "        vertical-align: top;\n",
       "    }\n",
       "\n",
       "    .dataframe thead th {\n",
       "        text-align: right;\n",
       "    }\n",
       "</style>\n",
       "<table border=\"1\" class=\"dataframe\">\n",
       "  <thead>\n",
       "    <tr style=\"text-align: right;\">\n",
       "      <th></th>\n",
       "      <th>date</th>\n",
       "      <th>A</th>\n",
       "      <th>B</th>\n",
       "    </tr>\n",
       "  </thead>\n",
       "  <tbody>\n",
       "    <tr>\n",
       "      <th>0</th>\n",
       "      <td>2019-08-01</td>\n",
       "      <td>23</td>\n",
       "      <td>17</td>\n",
       "    </tr>\n",
       "    <tr>\n",
       "      <th>1</th>\n",
       "      <td>2019-08-02</td>\n",
       "      <td>19</td>\n",
       "      <td>23</td>\n",
       "    </tr>\n",
       "    <tr>\n",
       "      <th>2</th>\n",
       "      <td>2019-08-03</td>\n",
       "      <td>24</td>\n",
       "      <td>14</td>\n",
       "    </tr>\n",
       "    <tr>\n",
       "      <th>3</th>\n",
       "      <td>2019-08-04</td>\n",
       "      <td>11</td>\n",
       "      <td>14</td>\n",
       "    </tr>\n",
       "    <tr>\n",
       "      <th>4</th>\n",
       "      <td>2019-08-05</td>\n",
       "      <td>22</td>\n",
       "      <td>21</td>\n",
       "    </tr>\n",
       "  </tbody>\n",
       "</table>\n",
       "</div>"
      ],
      "text/plain": [
       "        date   A   B\n",
       "0 2019-08-01  23  17\n",
       "1 2019-08-02  19  23\n",
       "2 2019-08-03  24  14\n",
       "3 2019-08-04  11  14\n",
       "4 2019-08-05  22  21"
      ]
     },
     "execution_count": 40,
     "metadata": {},
     "output_type": "execute_result"
    }
   ],
   "source": [
    "number_orders_by_group= pd.pivot_table(orders_data_new, values='transactionId', index= 'date', columns= 'group', aggfunc=lambda x: len(x.unique()))\n",
    "number_orders_by_group= pd.DataFrame(number_orders_by_group.to_records())  \n",
    "number_orders_by_group.head()"
   ]
  },
  {
   "cell_type": "code",
   "execution_count": 41,
   "id": "1192d924",
   "metadata": {
    "scrolled": true
   },
   "outputs": [
    {
     "name": "stdout",
     "output_type": "stream",
     "text": [
      "conversion rate for group A: 0    0.031989\n",
      "1    0.030695\n",
      "2    0.047337\n",
      "3    0.015342\n",
      "4    0.029101\n",
      "Name: A, dtype: float64\n",
      "conversion rate for group B: 0    0.023843\n",
      "1    0.039587\n",
      "2    0.027505\n",
      "3    0.018182\n",
      "4    0.029703\n",
      "Name: B, dtype: float64\n",
      "conversion rate average observation for group A: 0.025890306958716497\n",
      "conversion rate average observation for group B: 0.03042400280520272\n"
     ]
    }
   ],
   "source": [
    "conversion_A= number_orders_by_group['A'] / number_visits_by_group['A']\n",
    "conversion_B= number_orders_by_group['B'] / number_visits_by_group['B']\n",
    "dates= number_visits_by_group['date']\n",
    "\n",
    "print('conversion rate for group A:', conversion_A.head())\n",
    "\n",
    "print('conversion rate for group B:', conversion_B.head())\n",
    "\n",
    "\n",
    "print('conversion rate average observation for group A:', statistics.mean(conversion_A))\n",
    "\n",
    "print('conversion rate average observation for group B:', statistics.mean(conversion_B))\n"
   ]
  },
  {
   "cell_type": "code",
   "execution_count": 42,
   "id": "a178c25c",
   "metadata": {
    "scrolled": true
   },
   "outputs": [
    {
     "data": {
      "image/png": "[encoded data removed]",
      "text/plain": [
       "<Figure size 432x288 with 1 Axes>"
      ]
     },
     "metadata": {
      "needs_background": "light"
     },
     "output_type": "display_data"
    }
   ],
   "source": [
    "# calculating cumulative conversion\n",
    "conversion_A_cumu= conversion_A.cumsum()\n",
    "conversion_B_cumu= conversion_B.cumsum()\n",
    "\n",
    "# plotting the graphs\n",
    "plt.plot(dates, conversion_A_cumu, label='A')\n",
    "plt.plot(dates, conversion_B_cumu, label='B')\n",
    "plt.legend()\n",
    "plt.title('conversion rate by group and date', fontdict={'size':12})\n",
    "plt.xlabel('date')\n",
    "plt.ylabel('conversion rates by group')\n",
    "plt.xticks(rotation=50)\n",
    "plt.show()"
   ]
  },
  {
   "cell_type": "markdown",
   "id": "0230eca4",
   "metadata": {},
   "source": [
    "<font color='green'>seems stabalized all along the way after the first few days, group B has higher conversion rate"
   ]
  },
  {
   "cell_type": "markdown",
   "id": "3a3b5d30",
   "metadata": {},
   "source": [
    "***plotting the graph based on conversions rate without cumsum***\n"
   ]
  },
  {
   "cell_type": "code",
   "execution_count": 43,
   "id": "838ac9da",
   "metadata": {},
   "outputs": [],
   "source": [
    "visitorsAggregated = datesGroups.apply(\n",
    "    lambda x: visits_data[\n",
    "        np.logical_and(\n",
    "            visits_data['date'] <= x['date'], visits_data['group'] == x['group']\n",
    "        )\n",
    "    ].agg({'date': 'max', 'group': 'max', 'visits': 'sum'}),\n",
    "    axis=1,\n",
    ").sort_values(by=['date', 'group'])\n",
    "visitorsAggregated.columns = ['date', 'group', 'visits']"
   ]
  },
  {
   "cell_type": "code",
   "execution_count": 44,
   "id": "9459ea03",
   "metadata": {},
   "outputs": [
    {
     "data": {
      "text/html": [
       "<div>\n",
       "<style scoped>\n",
       "    .dataframe tbody tr th:only-of-type {\n",
       "        vertical-align: middle;\n",
       "    }\n",
       "\n",
       "    .dataframe tbody tr th {\n",
       "        vertical-align: top;\n",
       "    }\n",
       "\n",
       "    .dataframe thead th {\n",
       "        text-align: right;\n",
       "    }\n",
       "</style>\n",
       "<table border=\"1\" class=\"dataframe\">\n",
       "  <thead>\n",
       "    <tr style=\"text-align: right;\">\n",
       "      <th></th>\n",
       "      <th>date</th>\n",
       "      <th>group</th>\n",
       "      <th>visits</th>\n",
       "    </tr>\n",
       "  </thead>\n",
       "  <tbody>\n",
       "    <tr>\n",
       "      <th>55</th>\n",
       "      <td>2019-08-01</td>\n",
       "      <td>A</td>\n",
       "      <td>719</td>\n",
       "    </tr>\n",
       "    <tr>\n",
       "      <th>66</th>\n",
       "      <td>2019-08-01</td>\n",
       "      <td>B</td>\n",
       "      <td>713</td>\n",
       "    </tr>\n",
       "    <tr>\n",
       "      <th>175</th>\n",
       "      <td>2019-08-02</td>\n",
       "      <td>A</td>\n",
       "      <td>1338</td>\n",
       "    </tr>\n",
       "    <tr>\n",
       "      <th>173</th>\n",
       "      <td>2019-08-02</td>\n",
       "      <td>B</td>\n",
       "      <td>1294</td>\n",
       "    </tr>\n",
       "    <tr>\n",
       "      <th>291</th>\n",
       "      <td>2019-08-03</td>\n",
       "      <td>A</td>\n",
       "      <td>1845</td>\n",
       "    </tr>\n",
       "  </tbody>\n",
       "</table>\n",
       "</div>"
      ],
      "text/plain": [
       "          date group  visits\n",
       "55  2019-08-01     A     719\n",
       "66  2019-08-01     B     713\n",
       "175 2019-08-02     A    1338\n",
       "173 2019-08-02     B    1294\n",
       "291 2019-08-03     A    1845"
      ]
     },
     "execution_count": 44,
     "metadata": {},
     "output_type": "execute_result"
    }
   ],
   "source": [
    "visitorsAggregated.head()"
   ]
  },
  {
   "cell_type": "code",
   "execution_count": 45,
   "id": "b2a21bd6",
   "metadata": {},
   "outputs": [],
   "source": [
    "# merging the two tables into one and giving its columns descriptive names\n",
    "cumulativeData = ordersAggregated.merge(visitorsAggregated, left_on=['date', 'group'], right_on=['date', 'group'])\n",
    "cumulativeData.columns = ['date', 'group', 'orders', 'buyers', 'revenue', 'visits']"
   ]
  },
  {
   "cell_type": "code",
   "execution_count": 46,
   "id": "5a823119",
   "metadata": {
    "scrolled": true
   },
   "outputs": [
    {
     "data": {
      "text/plain": [
       "<matplotlib.legend.Legend at 0x7f42d5dae130>"
      ]
     },
     "execution_count": 46,
     "metadata": {},
     "output_type": "execute_result"
    },
    {
     "data": {
      "image/png": "[encoded data removed]",
      "text/plain": [
       "<Figure size 432x288 with 1 Axes>"
      ]
     },
     "metadata": {
      "needs_background": "light"
     },
     "output_type": "display_data"
    }
   ],
   "source": [
    "cumulativeData['conversion'] = cumulativeData['orders']/cumulativeData['visits']\n",
    "\n",
    "# selecting data on group A \n",
    "cumulativeDataA = cumulativeData[cumulativeData['group']=='A']\n",
    "\n",
    "# selecting data on group B\n",
    "cumulativeDataB = cumulativeData[cumulativeData['group']=='B']\n",
    "\n",
    "# plotting the graphs\n",
    "plt.plot(cumulativeDataA['date'], cumulativeDataA['conversion'], label='A')\n",
    "plt.plot(cumulativeDataB['date'], cumulativeDataB['conversion'], label='B')\n",
    "plt.legend()"
   ]
  },
  {
   "cell_type": "code",
   "execution_count": 47,
   "id": "0659cc78",
   "metadata": {
    "scrolled": true
   },
   "outputs": [
    {
     "name": "stderr",
     "output_type": "stream",
     "text": [
      "No handles with labels found to put in legend.\n"
     ]
    },
    {
     "data": {
      "text/plain": [
       "<matplotlib.lines.Line2D at 0x7f42d5d25f70>"
      ]
     },
     "execution_count": 47,
     "metadata": {},
     "output_type": "execute_result"
    },
    {
     "data": {
      "image/png": "[encoded data removed]",
      "text/plain": [
       "<Figure size 432x288 with 1 Axes>"
      ]
     },
     "metadata": {
      "needs_background": "light"
     },
     "output_type": "display_data"
    }
   ],
   "source": [
    "#Let's plot a relative difference graph for the cumulative conversion rates:\n",
    "mergedCumulativeConversions = cumulativeDataA[['date','conversion']].merge(cumulativeDataB[['date','conversion']], left_on='date', right_on='date', how='left', suffixes=['A', 'B'])\n",
    "\n",
    "plt.plot(mergedCumulativeConversions['date'], mergedCumulativeConversions['conversionB']/mergedCumulativeConversions['conversionA']-1)\n",
    "plt.legend()\n",
    "\n",
    "plt.axhline(y=0, color='black', linestyle='--')\n",
    "plt.axhline(y=-0.1, color='grey', linestyle='--')"
   ]
  },
  {
   "cell_type": "markdown",
   "id": "a5201c6e",
   "metadata": {},
   "source": [
    "<font color='green'>At the beginning of the test , group B was lagging behind , but then it suddenly took the lead, Then its conversion fell again, and then grew significatly and stayed kind of stable around a high point and leading before A in a very clear way for most of the test.\n",
    "\n",
    "<font color='green'>In general, the average purchase sizes are not yet stable, seems like in all other parameters group B is really leading above group A, but we are allso afraid there are big outliers, so I recomend to check scores after taking care of those."
   ]
  },
  {
   "cell_type": "markdown",
   "id": "9b17788f",
   "metadata": {},
   "source": [
    "**<font size=\"3\">Plot a scatter chart of the number of orders per user. Make conclusions and conjectures.**"
   ]
  },
  {
   "cell_type": "code",
   "execution_count": 49,
   "id": "d27a56c5",
   "metadata": {
    "scrolled": true
   },
   "outputs": [
    {
     "data": {
      "text/html": [
       "<div>\n",
       "<style scoped>\n",
       "    .dataframe tbody tr th:only-of-type {\n",
       "        vertical-align: middle;\n",
       "    }\n",
       "\n",
       "    .dataframe tbody tr th {\n",
       "        vertical-align: top;\n",
       "    }\n",
       "\n",
       "    .dataframe thead th {\n",
       "        text-align: right;\n",
       "    }\n",
       "</style>\n",
       "<table border=\"1\" class=\"dataframe\">\n",
       "  <thead>\n",
       "    <tr style=\"text-align: right;\">\n",
       "      <th></th>\n",
       "      <th>visitorId</th>\n",
       "      <th>orders</th>\n",
       "    </tr>\n",
       "  </thead>\n",
       "  <tbody>\n",
       "    <tr>\n",
       "      <th>908</th>\n",
       "      <td>3967698036</td>\n",
       "      <td>3</td>\n",
       "    </tr>\n",
       "    <tr>\n",
       "      <th>55</th>\n",
       "      <td>249864742</td>\n",
       "      <td>3</td>\n",
       "    </tr>\n",
       "    <tr>\n",
       "      <th>478</th>\n",
       "      <td>2108163459</td>\n",
       "      <td>3</td>\n",
       "    </tr>\n",
       "    <tr>\n",
       "      <th>687</th>\n",
       "      <td>2988190573</td>\n",
       "      <td>3</td>\n",
       "    </tr>\n",
       "    <tr>\n",
       "      <th>890</th>\n",
       "      <td>3908431265</td>\n",
       "      <td>3</td>\n",
       "    </tr>\n",
       "    <tr>\n",
       "      <th>138</th>\n",
       "      <td>611059232</td>\n",
       "      <td>3</td>\n",
       "    </tr>\n",
       "    <tr>\n",
       "      <th>632</th>\n",
       "      <td>2742574263</td>\n",
       "      <td>3</td>\n",
       "    </tr>\n",
       "    <tr>\n",
       "      <th>157</th>\n",
       "      <td>678354126</td>\n",
       "      <td>2</td>\n",
       "    </tr>\n",
       "    <tr>\n",
       "      <th>323</th>\n",
       "      <td>1404560065</td>\n",
       "      <td>2</td>\n",
       "    </tr>\n",
       "    <tr>\n",
       "      <th>452</th>\n",
       "      <td>1985475298</td>\n",
       "      <td>2</td>\n",
       "    </tr>\n",
       "  </tbody>\n",
       "</table>\n",
       "</div>"
      ],
      "text/plain": [
       "      visitorId  orders\n",
       "908  3967698036       3\n",
       "55    249864742       3\n",
       "478  2108163459       3\n",
       "687  2988190573       3\n",
       "890  3908431265       3\n",
       "138   611059232       3\n",
       "632  2742574263       3\n",
       "157   678354126       2\n",
       "323  1404560065       2\n",
       "452  1985475298       2"
      ]
     },
     "execution_count": 49,
     "metadata": {},
     "output_type": "execute_result"
    }
   ],
   "source": [
    "ordersByUsers = (\n",
    "    orders_data_new.drop(['group', 'revenue', 'date'], axis=1)\n",
    "    .groupby('visitorId', as_index=False)\n",
    "    .agg({'transactionId': pd.Series.nunique})\n",
    ")\n",
    "\n",
    "ordersByUsers.columns = ['visitorId', 'orders']\n",
    "\n",
    "ordersByUsers.sort_values(by='orders', ascending=False).head(10)\n",
    "\n"
   ]
  },
  {
   "cell_type": "code",
   "execution_count": 50,
   "id": "d87a7c0c",
   "metadata": {
    "scrolled": false
   },
   "outputs": [
    {
     "data": {
      "image/png": "[encoded data removed]",
      "text/plain": [
       "<Figure size 432x288 with 1 Axes>"
      ]
     },
     "metadata": {
      "needs_background": "light"
     },
     "output_type": "display_data"
    }
   ],
   "source": [
    "plt.hist(ordersByUsers['orders']) \n",
    "plt.title('orders per user', fontdict={'size':12})\n",
    "plt.xlabel('orders')\n",
    "plt.ylabel('users')\n",
    "plt.show()"
   ]
  },
  {
   "cell_type": "code",
   "execution_count": 51,
   "id": "c104f255",
   "metadata": {
    "scrolled": true
   },
   "outputs": [
    {
     "data": {
      "image/png": "[encoded data removed]",
      "text/plain": [
       "<Figure size 432x288 with 1 Axes>"
      ]
     },
     "metadata": {
      "needs_background": "light"
     },
     "output_type": "display_data"
    }
   ],
   "source": [
    "x_values = pd.Series(range(0,len(ordersByUsers)))\n",
    "plt.scatter(x_values, ordersByUsers['orders']) \n",
    "plt.title('orders per user', fontdict={'size':12})\n",
    "plt.xlabel('orders')\n",
    "plt.ylabel('users')\n",
    "plt.show()"
   ]
  },
  {
   "cell_type": "markdown",
   "id": "87936670",
   "metadata": {},
   "source": [
    "<font color='green'>Most of our users had only 1 order.\n",
    "\n",
    "<font color='green'>we can see some users ordering 2 orders and just a few ordering 3, those are probably anomalies.\n",
    "    \n",
    "<font color='green'>we should think of ways to attract users come back and order more from us."
   ]
  },
  {
   "cell_type": "markdown",
   "id": "d39d8721",
   "metadata": {},
   "source": [
    "**<font size=\"3\">Calculate the 95th and 99th percentiles for the number of orders per user. Define the point at which a data point becomes an anomaly.**"
   ]
  },
  {
   "cell_type": "code",
   "execution_count": 52,
   "id": "5dd1fa18",
   "metadata": {
    "scrolled": true
   },
   "outputs": [
    {
     "name": "stdout",
     "output_type": "stream",
     "text": [
      "precentiles:90%, 95%, 99%: [1. 1. 2.]\n"
     ]
    }
   ],
   "source": [
    "print('precentiles:90%, 95%, 99%:',np.percentile(ordersByUsers['orders'], [90, 95, 99])) \n"
   ]
  },
  {
   "cell_type": "markdown",
   "id": "04ecf735",
   "metadata": {},
   "source": [
    "<font color='green'>most of our users had only 1 order(95% from our data), only 10% had more and within this 10% we see that only the 1 last precent is having 2 orders or more, so any user ordering more then once is an anomaly.\n",
    "    \n",
    "<font color='green'>this returns us to the recomendation of finding ways to attract customers to come back."
   ]
  },
  {
   "cell_type": "markdown",
   "id": "90f43039",
   "metadata": {},
   "source": [
    "**<font size=\"3\">Plot a scatter chart of order prices. Make conclusions and conjectures.**"
   ]
  },
  {
   "cell_type": "code",
   "execution_count": 53,
   "id": "1b3fc0fe",
   "metadata": {
    "scrolled": true
   },
   "outputs": [
    {
     "data": {
      "image/png": "[encoded data removed]",
      "text/plain": [
       "<Figure size 432x288 with 1 Axes>"
      ]
     },
     "metadata": {
      "needs_background": "light"
     },
     "output_type": "display_data"
    }
   ],
   "source": [
    "#outliers\n",
    "plt.hist(orders_data_new['revenue'])\n",
    "plt.title('Revenue from Orders', fontdict={'size':12})\n",
    "plt.xlabel('revenue')\n",
    "plt.ylabel('orders')\n",
    "plt.show()\n",
    "\n"
   ]
  },
  {
   "cell_type": "code",
   "execution_count": 54,
   "id": "6b832bfb",
   "metadata": {
    "scrolled": true
   },
   "outputs": [
    {
     "data": {
      "image/png": "[encoded data removed]",
      "text/plain": [
       "<Figure size 432x288 with 1 Axes>"
      ]
     },
     "metadata": {
      "needs_background": "light"
     },
     "output_type": "display_data"
    }
   ],
   "source": [
    "x_values = pd.Series(range(0,len(orders_data_new['revenue'])))\n",
    "plt.scatter(x_values, orders_data_new['revenue']) \n",
    "plt.title('Revenue from Orders', fontdict={'size':12})\n",
    "plt.xlabel('orders')\n",
    "plt.ylabel('revenue')\n",
    "plt.show()"
   ]
  },
  {
   "cell_type": "markdown",
   "id": "e776702a",
   "metadata": {},
   "source": [
    "<font color='green'>we can see that most of our observations had revenues lower then 2500 and seems like lower by allot but we cant really tell.\n",
    "    \n",
    "<font color='green'>we see 2 anomalie points at around 2500 and 20000. \n",
    "    \n",
    "<font color='green'>we should check if those were mistakes in the data and in general if our service was a one payment for lifetime then we would assume those were mistakes, but from what i understand we are just not that good with keeping costumers and making them want to come and buy more from us."
   ]
  },
  {
   "cell_type": "markdown",
   "id": "632022a4",
   "metadata": {},
   "source": [
    "**<font size=\"3\">Calculate the 95th and 99th percentiles of order prices. Define the point at which a data point becomes an anomaly.**"
   ]
  },
  {
   "cell_type": "code",
   "execution_count": 55,
   "id": "42afba64",
   "metadata": {},
   "outputs": [
    {
     "name": "stdout",
     "output_type": "stream",
     "text": [
      "precentiles:90%, 95%, 99%: [280.8   414.275 830.3  ]\n"
     ]
    }
   ],
   "source": [
    "print('precentiles:90%, 95%, 99%:',np.percentile(orders_data_new['revenue'], [90, 95, 99])) \n"
   ]
  },
  {
   "cell_type": "markdown",
   "id": "93484048",
   "metadata": {},
   "source": [
    "<font color='green'>We can see that 90% of our observations had revenues lower then 280.8, which means only 10% had more then that. \n",
    "    \n",
    "<font color='green'>within these 10% only 5% had more then 414.275 and 1% over 830.3.\n",
    "    \n",
    "<font color='green'>most of our orders are for less then 280. we should look for ways to make the average order bring more revenue."
   ]
  },
  {
   "cell_type": "markdown",
   "id": "4cb1d386",
   "metadata": {},
   "source": [
    "**<font size=\"3\">Find the statistical significance of the difference in conversion between the groups using the raw data. Make conclusions and conjectures.**"
   ]
  },
  {
   "cell_type": "code",
   "execution_count": 56,
   "id": "70863722",
   "metadata": {
    "scrolled": false
   },
   "outputs": [
    {
     "name": "stdout",
     "output_type": "stream",
     "text": [
      "Relative gain: 0.160\n",
      "P-Value: 0.011\n",
      "We reject the null hypothesis\n"
     ]
    }
   ],
   "source": [
    "alpha=0.05\n",
    "ordersByUsersA = orders_data_new[orders_data_new['group']=='A'].groupby('visitorId', as_index=False).agg({'transactionId' : pd.Series.nunique})\n",
    "ordersByUsersA.columns = ['visitorId', 'transactionId']\n",
    "\n",
    "ordersByUsersB = orders_data_new[orders_data_new['group']=='B'].groupby('visitorId', as_index=False).agg({'transactionId' : pd.Series.nunique})\n",
    "ordersByUsersB.columns = ['visitorId', 'transactionId'] \n",
    "\n",
    "sampleA = pd.concat([ordersByUsersA['transactionId'],pd.Series(0, index=np.arange(visits_data[visits_data['group']=='A']['visits'].sum() - len(ordersByUsersA['transactionId'])), name='transactionId')],axis=0)\n",
    "\n",
    "sampleB = pd.concat([ordersByUsersB['transactionId'],pd.Series(0, index=np.arange(visits_data[visits_data['group']=='B']['visits'].sum() - len(ordersByUsersB['transactionId'])), name='transactionId')],axis=0)\n",
    "\n",
    "print('Relative gain:', \"{0:.3f}\".format(sampleB.mean()/ sampleA.mean()-1))\n",
    "result= st.mannwhitneyu(sampleA, sampleB)[1]\n",
    "\n",
    "print('P-Value:', \"{0:.3f}\".format(result))\n",
    "if (result < alpha):\n",
    "    print('We reject the null hypothesis')\n",
    "else:\n",
    "    print('We cant reject the null hypothesis')"
   ]
  },
  {
   "cell_type": "markdown",
   "id": "7240ac4d",
   "metadata": {},
   "source": [
    "<font color='green'>Based on the raw data, there is a difference between group A and B and we reject the null hypothesis that they are the same. \n",
    "    \n",
    "<font color='green'>The second row of the output gives us the P-Value 0.011, which is smaller than 0.05 . so we reject the null hypothesis that theres not a statistically signifcant difeerence in conversion between the groups. \n",
    "    \n",
    "<font color='green'>And the relative gain of group B is 16% (the first row of the output)"
   ]
  },
  {
   "cell_type": "markdown",
   "id": "2c220f37",
   "metadata": {},
   "source": [
    "**<font size=\"3\">Find the statistical significance of the difference in average order size between the groups using the raw data. Make conclusions and conjectures.**"
   ]
  },
  {
   "cell_type": "code",
   "execution_count": 57,
   "id": "f3d0f321",
   "metadata": {},
   "outputs": [
    {
     "name": "stdout",
     "output_type": "stream",
     "text": [
      "significance_of_difference: 0.278\n",
      "P-Value: 0.862\n",
      "We cant reject the null hypothesis\n"
     ]
    }
   ],
   "source": [
    "print('significance_of_difference:', '{0:.3f}'.format(orders_data_new[orders_data_new['group']=='B']['revenue'].mean()/ orders_data_new[orders_data_new['group']=='A']['revenue'].mean()-1))\n",
    "result= st.mannwhitneyu(orders_data_new[orders_data_new['group']=='A']['revenue'], orders_data_new[orders_data_new['group']=='B']['revenue'])[1]\n",
    "\n",
    "print('P-Value:', \"{0:.3f}\".format(result))\n",
    "if (result < alpha):\n",
    "    print('We reject the null hypothesis')\n",
    "else:\n",
    "    print('We cant reject the null hypothesis')"
   ]
  },
  {
   "cell_type": "code",
   "execution_count": 58,
   "id": "2e3a54e4",
   "metadata": {
    "scrolled": true
   },
   "outputs": [
    {
     "name": "stdout",
     "output_type": "stream",
     "text": [
      "Group A orders revenue mean: 113.701\n",
      "Group B orders revenue mean: 145.349\n"
     ]
    }
   ],
   "source": [
    "orders_A= orders_data_new.query('group == \"A\"')\n",
    "orders_B= orders_data_new.query('group == \"B\"')\n",
    "\n",
    "print('Group A orders revenue mean:', '{:.3f}'.format(orders_A['revenue'].mean()))\n",
    "print('Group B orders revenue mean:', '{:.3f}'.format(orders_B['revenue'].mean()))\n"
   ]
  },
  {
   "cell_type": "markdown",
   "id": "cacb032d",
   "metadata": {},
   "source": [
    "<font color='green'>The P-Value (0.862) is considerably higher than 0.05, so there no reason to reject the null hypothesis and conclude that avarege order size differs between the groups.\n",
    "    \n",
    "<font color='green'>The avarege order size for group B is bigger than it is for group A at some points and have bigger picks.\n",
    "    \n",
    "<font color='green'>0.278 means that the avarege order size for group B is 27.8% bigger then the size of it for group A. \n",
    "    \n",
    "<font color='green'>we can allso see it from just calculating the means that B has a bigger mean. this probably refers to the pick points we saw earlier."
   ]
  },
  {
   "cell_type": "markdown",
   "id": "6457b57b",
   "metadata": {},
   "source": [
    "**<font size=\"3\">Find the statistical significance of the difference in conversion between the groups using the filtered data. Make conclusions and conjectures.**"
   ]
  },
  {
   "cell_type": "code",
   "execution_count": 59,
   "id": "ffea83d5",
   "metadata": {
    "scrolled": true
   },
   "outputs": [
    {
     "name": "stdout",
     "output_type": "stream",
     "text": [
      "568     113298937\n",
      "1099    148427295\n",
      "928     204675465\n",
      "33      249864742\n",
      "684     358944393\n",
      "Name: visitorId, dtype: int64\n",
      "(86,)\n"
     ]
    }
   ],
   "source": [
    "usersWithManyOrders = pd.concat([ordersByUsersA[ordersByUsersA['transactionId'] > 1]['visitorId'], ordersByUsersB[ordersByUsersB['transactionId'] > 1]['visitorId']], axis = 0)\n",
    "usersWithExpensiveOrders = orders_data_new[orders_data_new['revenue'] > 414.275]['visitorId']\n",
    "abnormalUsers = pd.concat([usersWithManyOrders, usersWithExpensiveOrders], axis = 0).drop_duplicates().sort_values()\n",
    "print(abnormalUsers.head(5))\n",
    "print(abnormalUsers.shape)"
   ]
  },
  {
   "cell_type": "markdown",
   "id": "c6789f54",
   "metadata": {},
   "source": [
    "<font color='green'>We have 86 anomalous users in total. thats allot and they really affected our results from the tests.\n",
    "    \n",
    "<font color='green'>lets check the results without these anomalies."
   ]
  },
  {
   "cell_type": "code",
   "execution_count": 60,
   "id": "45782787",
   "metadata": {},
   "outputs": [
    {
     "name": "stdout",
     "output_type": "stream",
     "text": [
      "Relative gain: 0.174\n",
      "P-Value: 0.016\n",
      "We reject the null hypothesis\n"
     ]
    }
   ],
   "source": [
    "sampleAFiltered = pd.concat([ordersByUsersA[np.logical_not(ordersByUsersA['visitorId'].isin(abnormalUsers))]['transactionId'],pd.Series(0, index=np.arange(visits_data[visits_data['group']=='A']['visits'].sum() - len(ordersByUsersA['transactionId'])),name='transactionId')],axis=0)\n",
    "\n",
    "sampleBFiltered = pd.concat([ordersByUsersB[np.logical_not(ordersByUsersB['visitorId'].isin(abnormalUsers))]['transactionId'],pd.Series(0, index=np.arange(visits_data[visits_data['group']=='B']['visits'].sum() - len(ordersByUsersB['transactionId'])),name='transactionId')],axis=0)\n",
    "\n",
    "print('Relative gain:', \"{0:.3f}\".format(sampleBFiltered.mean()/sampleAFiltered.mean()-1))  \n",
    "\n",
    "result= st.mannwhitneyu(sampleAFiltered, sampleBFiltered)[1]     \n",
    "\n",
    "print('P-Value:', \"{0:.3f}\".format(result))\n",
    "if (result < alpha):\n",
    "    print('We reject the null hypothesis')\n",
    "else:\n",
    "    print('We cant reject the null hypothesis')\n",
    "      "
   ]
  },
  {
   "cell_type": "markdown",
   "id": "8ff755e4",
   "metadata": {},
   "source": [
    "<font color='green'>old results:\n",
    "    \n",
    "<font color='green'>Relative gain: 0.160\n",
    "    \n",
    "<font color='green'>P-Value: 0.011\n",
    "    \n",
    "<font color='green'>The results for conversion almost didnt change and the results are still the same, pvalue is smaller than 0.05. Relative gain in now 17.4%.\n",
    "    \n",
    "<font color='green'>We still reject the null hypothesis and meaning the group had differences between them in the results and that our test has a meaning."
   ]
  },
  {
   "cell_type": "markdown",
   "id": "ce031f33",
   "metadata": {},
   "source": [
    "**<font size=\"3\">Find the statistical significance of the difference in average order size between the groups using the filtered data. Make conclusions and conjectures.**"
   ]
  },
  {
   "cell_type": "code",
   "execution_count": 61,
   "id": "1d48278e",
   "metadata": {
    "scrolled": true
   },
   "outputs": [
    {
     "name": "stdout",
     "output_type": "stream",
     "text": [
      "significance_of_difference: -0.033\n",
      "P-Value: 0.771\n",
      "We cant reject the null hypothesis\n"
     ]
    }
   ],
   "source": [
    "print('significance_of_difference:', '{0:.3f}'.format(\n",
    "    orders_data_new[np.logical_and(orders_data_new['group']=='B', np.logical_not(orders_data_new['visitorId'].isin(abnormalUsers)))]['revenue'].mean()/\n",
    "    orders_data_new[np.logical_and(\n",
    "        orders_data_new['group']=='A',\n",
    "        np.logical_not(orders_data_new['visitorId'].isin(abnormalUsers)))]['revenue'].mean()-1))\n",
    "\n",
    "result= st.mannwhitneyu(\n",
    "    orders_data_new[np.logical_and(\n",
    "        orders_data_new['group']=='A', \n",
    "        np.logical_not(orders_data_new['visitorId'].isin(abnormalUsers)))]['revenue'],\n",
    "    orders_data_new[np.logical_and(\n",
    "         orders_data_new['group']=='B',\n",
    "         np.logical_not(orders_data_new['visitorId'].isin(abnormalUsers)))]['revenue'])[1]\n",
    "\n",
    "print('P-Value:', \"{0:.3f}\".format(result))\n",
    "if (result < alpha):\n",
    "    print('We reject the null hypothesis')\n",
    "else:\n",
    "    print('We cant reject the null hypothesis')"
   ]
  },
  {
   "cell_type": "markdown",
   "id": "499a449e",
   "metadata": {},
   "source": [
    "<font color='green'>old results:\n",
    "    \n",
    "<font color='green'>significance_of_difference: 0.278\n",
    "    \n",
    "<font color='green'>P-Value: 0.862\n",
    "\n",
    "<font color='green'>The p-value increased but it doesnt really matters, but now the difference between the segments is -3.3% insted of 27.8%.\n",
    "    \n",
    "<font color='green'>we still can't reject the null hypothesis meaning the avarege of order sizes between the groups doesnt have a significant difference.\n",
    "    \n",
    "<font color='green'>-0.033 means that the avarege order size for group B is 0.033%  smaller then the size of it for group A.\n",
    "    \n",
    "<font color='green'>so, taking care of our anomalies helped us to understand that group A is acctually the leader."
   ]
  },
  {
   "cell_type": "markdown",
   "id": "41e4bc26",
   "metadata": {},
   "source": [
    "**<font size=\"3\">Make a decision based on the test results. The possible decisions are:**\n",
    "\n",
    "1.Stop the test, consider one of the groups the leader.\n",
    "\n",
    "2.Stop the test, conclude that there is no difference between the groups.\n",
    "\n",
    "3.Continue the test"
   ]
  },
  {
   "cell_type": "markdown",
   "id": "d8117850",
   "metadata": {},
   "source": [
    "<font color='green'>From our graphs we conclude that group B has higher cumulative revenue by group and date, and higher cumulative average order size by group and date. also seems like group B has a much better conversion rate.\n",
    "\n",
    "<font color='green'>When we looked for anomalies we found out that any user whop order more then 1 order or with revenue of more then 414.275, is an anomaly. we will check if these anomalies affected our scores.\n",
    "\n",
    "<font color='green'>Then we did some tests based on the raw data, there is a difference in conversion between group A to group B.\n",
    "\n",
    "<font color='green'>Then we test for the significance of the difference in avarege order size between the groups using the raw data and discovered the pvalue is considerably high. so there's no reason to reject the null hypothesis and conclude that average order size differs between the groups but still that group B might have bigger picks.\n",
    "\n",
    "<font color='green'>Then we find the statistical signifcance of the diference in conversion between the groups using the filtered data, discovering we had 86 outliers. \n",
    "    \n",
    "<font color='green'>The results for conversion almost didnt change and the results are still the same. \n",
    "\n",
    "<font color='green'>For the difference in average order size between the groups  using the filltered pvalue increased abit but this didnt change much, now it looks like the average order size of B is just abit smaller then for A if we leave aside our outliers.\n",
    "\n",
    "<font color='green'>still in general seems like group B is leading\n",
    "\n",
    "**<font color='green'>from the graphs and tests we could see that model had pretty much stabalised (after taking care of anomalies) and we can say we should stop the test and announce B as the leading group.**"
   ]
  }
 ],
 "metadata": {
  "kernelspec": {
   "display_name": "Python 3 (ipykernel)",
   "language": "python",
   "name": "python3"
  },
  "language_info": {
   "codemirror_mode": {
    "name": "ipython",
    "version": 3
   },
   "file_extension": ".py",
   "mimetype": "text/x-python",
   "name": "python",
   "nbconvert_exporter": "python",
   "pygments_lexer": "ipython3",
   "version": "3.9.13"
  },
  "toc": {
   "base_numbering": 1,
   "nav_menu": {},
   "number_sections": true,
   "sideBar": true,
   "skip_h1_title": true,
   "title_cell": "Table of Contents",
   "title_sidebar": "Contents",
   "toc_cell": false,
   "toc_position": {},
   "toc_section_display": true,
   "toc_window_display": false
  }
 },
 "nbformat": 4,
 "nbformat_minor": 5
}
